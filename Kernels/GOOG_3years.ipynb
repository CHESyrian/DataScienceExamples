{
 "cells": [
  {
   "cell_type": "markdown",
   "metadata": {},
   "source": [
    "<p style=\"height:100px;line-height:100px;background-color:lime;padding-left:12px;font-size:46px;font-family:serif;font-weight:bold;color:white;\">\n",
    "    Stock Price (GOOG) in Three Years\n",
    "</p>\n",
    "<p style=\"height:240px;line-height:100px;font-size:64px;background-color:cyan;color:white;padding:20px auto;text-align:center;border:2px outset gold;border-radius:8px;\">\n",
    "    Created by:<br/> <code>Tarek Ghajary</code>\n",
    "</p>"
   ]
  },
  {
   "cell_type": "markdown",
   "metadata": {},
   "source": [
    "# Importing Libraries"
   ]
  },
  {
   "cell_type": "code",
   "execution_count": 1,
   "metadata": {},
   "outputs": [],
   "source": [
    "#to ignore warnings\n",
    "import warnings\n",
    "warnings.filterwarnings('ignore')"
   ]
  },
  {
   "cell_type": "code",
   "execution_count": 2,
   "metadata": {},
   "outputs": [],
   "source": [
    "import numpy as np\n",
    "import pandas as pd\n",
    "import matplotlib.pyplot as mpp\n",
    "%matplotlib inline\n",
    "import seaborn as sb"
   ]
  },
  {
   "cell_type": "code",
   "execution_count": 3,
   "metadata": {},
   "outputs": [],
   "source": [
    "#bokeh"
   ]
  },
  {
   "cell_type": "markdown",
   "metadata": {},
   "source": [
    "# Reading and Exploring the Data"
   ]
  },
  {
   "cell_type": "code",
   "execution_count": 5,
   "metadata": {},
   "outputs": [],
   "source": [
    "goog = pd.read_csv('../DataSets/GOOG_3years.csv')"
   ]
  },
  {
   "cell_type": "code",
   "execution_count": 6,
   "metadata": {},
   "outputs": [
    {
     "data": {
      "text/html": [
       "<div>\n",
       "<style scoped>\n",
       "    .dataframe tbody tr th:only-of-type {\n",
       "        vertical-align: middle;\n",
       "    }\n",
       "\n",
       "    .dataframe tbody tr th {\n",
       "        vertical-align: top;\n",
       "    }\n",
       "\n",
       "    .dataframe thead th {\n",
       "        text-align: right;\n",
       "    }\n",
       "</style>\n",
       "<table border=\"1\" class=\"dataframe\">\n",
       "  <thead>\n",
       "    <tr style=\"text-align: right;\">\n",
       "      <th></th>\n",
       "      <th>date</th>\n",
       "      <th>close</th>\n",
       "      <th>volume</th>\n",
       "      <th>open</th>\n",
       "      <th>high</th>\n",
       "      <th>low</th>\n",
       "    </tr>\n",
       "  </thead>\n",
       "  <tbody>\n",
       "    <tr>\n",
       "      <th>0</th>\n",
       "      <td>2018/10/26</td>\n",
       "      <td>1071.47</td>\n",
       "      <td>4185201.0</td>\n",
       "      <td>1037.03</td>\n",
       "      <td>1106.53</td>\n",
       "      <td>1034.09</td>\n",
       "    </tr>\n",
       "    <tr>\n",
       "      <th>1</th>\n",
       "      <td>2018/10/25</td>\n",
       "      <td>1095.57</td>\n",
       "      <td>2511884.0</td>\n",
       "      <td>1071.79</td>\n",
       "      <td>1110.98</td>\n",
       "      <td>1069.55</td>\n",
       "    </tr>\n",
       "    <tr>\n",
       "      <th>2</th>\n",
       "      <td>2018/10/24</td>\n",
       "      <td>1050.71</td>\n",
       "      <td>1910060.0</td>\n",
       "      <td>1104.25</td>\n",
       "      <td>1106.12</td>\n",
       "      <td>1048.74</td>\n",
       "    </tr>\n",
       "    <tr>\n",
       "      <th>3</th>\n",
       "      <td>2018/10/23</td>\n",
       "      <td>1103.69</td>\n",
       "      <td>1847798.0</td>\n",
       "      <td>1080.89</td>\n",
       "      <td>1107.89</td>\n",
       "      <td>1070.00</td>\n",
       "    </tr>\n",
       "    <tr>\n",
       "      <th>4</th>\n",
       "      <td>2018/10/22</td>\n",
       "      <td>1101.16</td>\n",
       "      <td>1494285.0</td>\n",
       "      <td>1103.06</td>\n",
       "      <td>1112.23</td>\n",
       "      <td>1091.00</td>\n",
       "    </tr>\n",
       "  </tbody>\n",
       "</table>\n",
       "</div>"
      ],
      "text/plain": [
       "         date    close     volume     open     high      low\n",
       "0  2018/10/26  1071.47  4185201.0  1037.03  1106.53  1034.09\n",
       "1  2018/10/25  1095.57  2511884.0  1071.79  1110.98  1069.55\n",
       "2  2018/10/24  1050.71  1910060.0  1104.25  1106.12  1048.74\n",
       "3  2018/10/23  1103.69  1847798.0  1080.89  1107.89  1070.00\n",
       "4  2018/10/22  1101.16  1494285.0  1103.06  1112.23  1091.00"
      ]
     },
     "execution_count": 6,
     "metadata": {},
     "output_type": "execute_result"
    }
   ],
   "source": [
    "goog.head()"
   ]
  },
  {
   "cell_type": "code",
   "execution_count": 7,
   "metadata": {},
   "outputs": [
    {
     "data": {
      "text/plain": [
       "(758, 6)"
      ]
     },
     "execution_count": 7,
     "metadata": {},
     "output_type": "execute_result"
    }
   ],
   "source": [
    "goog.shape"
   ]
  },
  {
   "cell_type": "code",
   "execution_count": 8,
   "metadata": {},
   "outputs": [
    {
     "data": {
      "text/html": [
       "<div>\n",
       "<style scoped>\n",
       "    .dataframe tbody tr th:only-of-type {\n",
       "        vertical-align: middle;\n",
       "    }\n",
       "\n",
       "    .dataframe tbody tr th {\n",
       "        vertical-align: top;\n",
       "    }\n",
       "\n",
       "    .dataframe thead th {\n",
       "        text-align: right;\n",
       "    }\n",
       "</style>\n",
       "<table border=\"1\" class=\"dataframe\">\n",
       "  <thead>\n",
       "    <tr style=\"text-align: right;\">\n",
       "      <th></th>\n",
       "      <th>close</th>\n",
       "      <th>volume</th>\n",
       "      <th>open</th>\n",
       "      <th>high</th>\n",
       "      <th>low</th>\n",
       "    </tr>\n",
       "  </thead>\n",
       "  <tbody>\n",
       "    <tr>\n",
       "      <th>count</th>\n",
       "      <td>758.000000</td>\n",
       "      <td>7.580000e+02</td>\n",
       "      <td>758.000000</td>\n",
       "      <td>758.000000</td>\n",
       "      <td>758.000000</td>\n",
       "    </tr>\n",
       "    <tr>\n",
       "      <th>mean</th>\n",
       "      <td>907.663522</td>\n",
       "      <td>1.665784e+06</td>\n",
       "      <td>907.466675</td>\n",
       "      <td>914.845824</td>\n",
       "      <td>899.930593</td>\n",
       "    </tr>\n",
       "    <tr>\n",
       "      <th>std</th>\n",
       "      <td>165.771927</td>\n",
       "      <td>7.718114e+05</td>\n",
       "      <td>165.764100</td>\n",
       "      <td>167.698831</td>\n",
       "      <td>163.856366</td>\n",
       "    </tr>\n",
       "    <tr>\n",
       "      <th>min</th>\n",
       "      <td>668.260000</td>\n",
       "      <td>5.272230e+05</td>\n",
       "      <td>667.850000</td>\n",
       "      <td>672.300000</td>\n",
       "      <td>663.060000</td>\n",
       "    </tr>\n",
       "    <tr>\n",
       "      <th>25%</th>\n",
       "      <td>759.902500</td>\n",
       "      <td>1.190456e+06</td>\n",
       "      <td>759.707500</td>\n",
       "      <td>768.108125</td>\n",
       "      <td>752.696600</td>\n",
       "    </tr>\n",
       "    <tr>\n",
       "      <th>50%</th>\n",
       "      <td>886.475000</td>\n",
       "      <td>1.462198e+06</td>\n",
       "      <td>887.995000</td>\n",
       "      <td>894.525000</td>\n",
       "      <td>882.585000</td>\n",
       "    </tr>\n",
       "    <tr>\n",
       "      <th>75%</th>\n",
       "      <td>1049.132500</td>\n",
       "      <td>1.922700e+06</td>\n",
       "      <td>1048.255000</td>\n",
       "      <td>1059.745000</td>\n",
       "      <td>1040.696000</td>\n",
       "    </tr>\n",
       "    <tr>\n",
       "      <th>max</th>\n",
       "      <td>1268.330000</td>\n",
       "      <td>6.340548e+06</td>\n",
       "      <td>1271.000000</td>\n",
       "      <td>1273.890000</td>\n",
       "      <td>1249.020000</td>\n",
       "    </tr>\n",
       "  </tbody>\n",
       "</table>\n",
       "</div>"
      ],
      "text/plain": [
       "             close        volume         open         high          low\n",
       "count   758.000000  7.580000e+02   758.000000   758.000000   758.000000\n",
       "mean    907.663522  1.665784e+06   907.466675   914.845824   899.930593\n",
       "std     165.771927  7.718114e+05   165.764100   167.698831   163.856366\n",
       "min     668.260000  5.272230e+05   667.850000   672.300000   663.060000\n",
       "25%     759.902500  1.190456e+06   759.707500   768.108125   752.696600\n",
       "50%     886.475000  1.462198e+06   887.995000   894.525000   882.585000\n",
       "75%    1049.132500  1.922700e+06  1048.255000  1059.745000  1040.696000\n",
       "max    1268.330000  6.340548e+06  1271.000000  1273.890000  1249.020000"
      ]
     },
     "execution_count": 8,
     "metadata": {},
     "output_type": "execute_result"
    }
   ],
   "source": [
    "goog.describe()"
   ]
  },
  {
   "cell_type": "code",
   "execution_count": 9,
   "metadata": {},
   "outputs": [
    {
     "name": "stdout",
     "output_type": "stream",
     "text": [
      "<class 'pandas.core.frame.DataFrame'>\n",
      "RangeIndex: 758 entries, 0 to 757\n",
      "Data columns (total 6 columns):\n",
      " #   Column  Non-Null Count  Dtype  \n",
      "---  ------  --------------  -----  \n",
      " 0   date    758 non-null    object \n",
      " 1   close   758 non-null    float64\n",
      " 2   volume  758 non-null    float64\n",
      " 3   open    758 non-null    float64\n",
      " 4   high    758 non-null    float64\n",
      " 5   low     758 non-null    float64\n",
      "dtypes: float64(5), object(1)\n",
      "memory usage: 35.7+ KB\n"
     ]
    }
   ],
   "source": [
    "goog.info()"
   ]
  },
  {
   "cell_type": "code",
   "execution_count": 10,
   "metadata": {},
   "outputs": [
    {
     "data": {
      "text/plain": [
       "date       object\n",
       "close     float64\n",
       "volume    float64\n",
       "open      float64\n",
       "high      float64\n",
       "low       float64\n",
       "dtype: object"
      ]
     },
     "execution_count": 10,
     "metadata": {},
     "output_type": "execute_result"
    }
   ],
   "source": [
    "goog.dtypes"
   ]
  },
  {
   "cell_type": "code",
   "execution_count": 11,
   "metadata": {},
   "outputs": [
    {
     "data": {
      "text/plain": [
       "date      0\n",
       "close     0\n",
       "volume    0\n",
       "open      0\n",
       "high      0\n",
       "low       0\n",
       "dtype: int64"
      ]
     },
     "execution_count": 11,
     "metadata": {},
     "output_type": "execute_result"
    }
   ],
   "source": [
    "goog.isna().sum()"
   ]
  },
  {
   "cell_type": "code",
   "execution_count": null,
   "metadata": {},
   "outputs": [],
   "source": []
  }
 ],
 "metadata": {
  "kernelspec": {
   "display_name": "Python 3",
   "language": "python",
   "name": "python3"
  },
  "language_info": {
   "codemirror_mode": {
    "name": "ipython",
    "version": 3
   },
   "file_extension": ".py",
   "mimetype": "text/x-python",
   "name": "python",
   "nbconvert_exporter": "python",
   "pygments_lexer": "ipython3",
   "version": "3.7.6"
  }
 },
 "nbformat": 4,
 "nbformat_minor": 4
}
