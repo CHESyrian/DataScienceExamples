{
 "cells": [
  {
   "cell_type": "markdown",
   "metadata": {},
   "source": [
    "<p style=\"height:100px;line-height:100px;background-color:lime;padding-left:12px;font-size:46px;font-family:serif;font-weight:bold;color:white;\">\n",
    "    Stock Price (GOOG) in Three Years\n",
    "</p>"
   ]
  },
  {
   "cell_type": "markdown",
   "metadata": {},
   "source": [
    "# Importing Libraries"
   ]
  },
  {
   "cell_type": "code",
   "execution_count": 17,
   "metadata": {},
   "outputs": [],
   "source": [
    "#to ignore warnings\n",
    "import warnings\n",
    "warnings.filterwarnings('ignore')"
   ]
  },
  {
   "cell_type": "code",
   "execution_count": 18,
   "metadata": {},
   "outputs": [],
   "source": [
    "import numpy as np\n",
    "import pandas as pd\n",
    "import matplotlib.pyplot as mpp\n",
    "%matplotlib inline\n",
    "import plotly.graph_objects as go\n",
    "import yfinance as yf"
   ]
  },
  {
   "cell_type": "markdown",
   "metadata": {},
   "source": [
    "# Reading and Exploring the Data"
   ]
  },
  {
   "cell_type": "code",
   "execution_count": 19,
   "metadata": {},
   "outputs": [],
   "source": [
    "goog_ticker = yf.Ticker('goog')"
   ]
  },
  {
   "cell_type": "code",
   "execution_count": 20,
   "metadata": {},
   "outputs": [],
   "source": [
    "goog = goog_ticker.history(start='2020-01-02', end='2020-12-31', interval='1d')"
   ]
  },
  {
   "cell_type": "code",
   "execution_count": 21,
   "metadata": {},
   "outputs": [
    {
     "data": {
      "text/html": [
       "<div>\n",
       "<style scoped>\n",
       "    .dataframe tbody tr th:only-of-type {\n",
       "        vertical-align: middle;\n",
       "    }\n",
       "\n",
       "    .dataframe tbody tr th {\n",
       "        vertical-align: top;\n",
       "    }\n",
       "\n",
       "    .dataframe thead th {\n",
       "        text-align: right;\n",
       "    }\n",
       "</style>\n",
       "<table border=\"1\" class=\"dataframe\">\n",
       "  <thead>\n",
       "    <tr style=\"text-align: right;\">\n",
       "      <th></th>\n",
       "      <th>Open</th>\n",
       "      <th>High</th>\n",
       "      <th>Low</th>\n",
       "      <th>Close</th>\n",
       "      <th>Volume</th>\n",
       "      <th>Dividends</th>\n",
       "      <th>Stock Splits</th>\n",
       "    </tr>\n",
       "    <tr>\n",
       "      <th>Date</th>\n",
       "      <th></th>\n",
       "      <th></th>\n",
       "      <th></th>\n",
       "      <th></th>\n",
       "      <th></th>\n",
       "      <th></th>\n",
       "      <th></th>\n",
       "    </tr>\n",
       "  </thead>\n",
       "  <tbody>\n",
       "    <tr>\n",
       "      <th>2020-01-02</th>\n",
       "      <td>1341.55</td>\n",
       "      <td>1368.14</td>\n",
       "      <td>1341.55</td>\n",
       "      <td>1367.37</td>\n",
       "      <td>1406600</td>\n",
       "      <td>0</td>\n",
       "      <td>0</td>\n",
       "    </tr>\n",
       "    <tr>\n",
       "      <th>2020-01-03</th>\n",
       "      <td>1347.86</td>\n",
       "      <td>1372.50</td>\n",
       "      <td>1345.54</td>\n",
       "      <td>1360.66</td>\n",
       "      <td>1186400</td>\n",
       "      <td>0</td>\n",
       "      <td>0</td>\n",
       "    </tr>\n",
       "    <tr>\n",
       "      <th>2020-01-06</th>\n",
       "      <td>1350.00</td>\n",
       "      <td>1396.50</td>\n",
       "      <td>1350.00</td>\n",
       "      <td>1394.21</td>\n",
       "      <td>1732300</td>\n",
       "      <td>0</td>\n",
       "      <td>0</td>\n",
       "    </tr>\n",
       "    <tr>\n",
       "      <th>2020-01-07</th>\n",
       "      <td>1397.94</td>\n",
       "      <td>1402.99</td>\n",
       "      <td>1390.38</td>\n",
       "      <td>1393.34</td>\n",
       "      <td>1502700</td>\n",
       "      <td>0</td>\n",
       "      <td>0</td>\n",
       "    </tr>\n",
       "    <tr>\n",
       "      <th>2020-01-08</th>\n",
       "      <td>1392.08</td>\n",
       "      <td>1411.58</td>\n",
       "      <td>1390.84</td>\n",
       "      <td>1404.32</td>\n",
       "      <td>1528000</td>\n",
       "      <td>0</td>\n",
       "      <td>0</td>\n",
       "    </tr>\n",
       "  </tbody>\n",
       "</table>\n",
       "</div>"
      ],
      "text/plain": [
       "               Open     High      Low    Close   Volume  Dividends  \\\n",
       "Date                                                                 \n",
       "2020-01-02  1341.55  1368.14  1341.55  1367.37  1406600          0   \n",
       "2020-01-03  1347.86  1372.50  1345.54  1360.66  1186400          0   \n",
       "2020-01-06  1350.00  1396.50  1350.00  1394.21  1732300          0   \n",
       "2020-01-07  1397.94  1402.99  1390.38  1393.34  1502700          0   \n",
       "2020-01-08  1392.08  1411.58  1390.84  1404.32  1528000          0   \n",
       "\n",
       "            Stock Splits  \n",
       "Date                      \n",
       "2020-01-02             0  \n",
       "2020-01-03             0  \n",
       "2020-01-06             0  \n",
       "2020-01-07             0  \n",
       "2020-01-08             0  "
      ]
     },
     "execution_count": 21,
     "metadata": {},
     "output_type": "execute_result"
    }
   ],
   "source": [
    "goog.head()"
   ]
  },
  {
   "cell_type": "code",
   "execution_count": 22,
   "metadata": {},
   "outputs": [
    {
     "data": {
      "text/plain": [
       "(252, 7)"
      ]
     },
     "execution_count": 22,
     "metadata": {},
     "output_type": "execute_result"
    }
   ],
   "source": [
    "goog.shape"
   ]
  },
  {
   "cell_type": "code",
   "execution_count": 23,
   "metadata": {},
   "outputs": [
    {
     "data": {
      "text/html": [
       "<div>\n",
       "<style scoped>\n",
       "    .dataframe tbody tr th:only-of-type {\n",
       "        vertical-align: middle;\n",
       "    }\n",
       "\n",
       "    .dataframe tbody tr th {\n",
       "        vertical-align: top;\n",
       "    }\n",
       "\n",
       "    .dataframe thead th {\n",
       "        text-align: right;\n",
       "    }\n",
       "</style>\n",
       "<table border=\"1\" class=\"dataframe\">\n",
       "  <thead>\n",
       "    <tr style=\"text-align: right;\">\n",
       "      <th></th>\n",
       "      <th>Open</th>\n",
       "      <th>High</th>\n",
       "      <th>Low</th>\n",
       "      <th>Close</th>\n",
       "      <th>Volume</th>\n",
       "      <th>Dividends</th>\n",
       "      <th>Stock Splits</th>\n",
       "    </tr>\n",
       "  </thead>\n",
       "  <tbody>\n",
       "    <tr>\n",
       "      <th>count</th>\n",
       "      <td>252.000000</td>\n",
       "      <td>252.000000</td>\n",
       "      <td>252.000000</td>\n",
       "      <td>252.000000</td>\n",
       "      <td>2.520000e+02</td>\n",
       "      <td>252.0</td>\n",
       "      <td>252.0</td>\n",
       "    </tr>\n",
       "    <tr>\n",
       "      <th>mean</th>\n",
       "      <td>1478.551389</td>\n",
       "      <td>1498.148373</td>\n",
       "      <td>1460.984048</td>\n",
       "      <td>1480.330476</td>\n",
       "      <td>1.895180e+06</td>\n",
       "      <td>0.0</td>\n",
       "      <td>0.0</td>\n",
       "    </tr>\n",
       "    <tr>\n",
       "      <th>std</th>\n",
       "      <td>176.404186</td>\n",
       "      <td>174.435405</td>\n",
       "      <td>178.455264</td>\n",
       "      <td>175.486282</td>\n",
       "      <td>7.670688e+05</td>\n",
       "      <td>0.0</td>\n",
       "      <td>0.0</td>\n",
       "    </tr>\n",
       "    <tr>\n",
       "      <th>min</th>\n",
       "      <td>1056.510000</td>\n",
       "      <td>1071.320000</td>\n",
       "      <td>1013.540000</td>\n",
       "      <td>1056.620000</td>\n",
       "      <td>3.468000e+05</td>\n",
       "      <td>0.0</td>\n",
       "      <td>0.0</td>\n",
       "    </tr>\n",
       "    <tr>\n",
       "      <th>25%</th>\n",
       "      <td>1391.760000</td>\n",
       "      <td>1412.465000</td>\n",
       "      <td>1378.537500</td>\n",
       "      <td>1393.992500</td>\n",
       "      <td>1.396450e+06</td>\n",
       "      <td>0.0</td>\n",
       "      <td>0.0</td>\n",
       "    </tr>\n",
       "    <tr>\n",
       "      <th>50%</th>\n",
       "      <td>1471.070000</td>\n",
       "      <td>1488.980000</td>\n",
       "      <td>1459.435000</td>\n",
       "      <td>1475.340000</td>\n",
       "      <td>1.660750e+06</td>\n",
       "      <td>0.0</td>\n",
       "      <td>0.0</td>\n",
       "    </tr>\n",
       "    <tr>\n",
       "      <th>75%</th>\n",
       "      <td>1566.130000</td>\n",
       "      <td>1587.162500</td>\n",
       "      <td>1545.297500</td>\n",
       "      <td>1568.182500</td>\n",
       "      <td>2.155150e+06</td>\n",
       "      <td>0.0</td>\n",
       "      <td>0.0</td>\n",
       "    </tr>\n",
       "    <tr>\n",
       "      <th>max</th>\n",
       "      <td>1824.520000</td>\n",
       "      <td>1847.200000</td>\n",
       "      <td>1822.650000</td>\n",
       "      <td>1827.990000</td>\n",
       "      <td>4.329100e+06</td>\n",
       "      <td>0.0</td>\n",
       "      <td>0.0</td>\n",
       "    </tr>\n",
       "  </tbody>\n",
       "</table>\n",
       "</div>"
      ],
      "text/plain": [
       "              Open         High          Low        Close        Volume  \\\n",
       "count   252.000000   252.000000   252.000000   252.000000  2.520000e+02   \n",
       "mean   1478.551389  1498.148373  1460.984048  1480.330476  1.895180e+06   \n",
       "std     176.404186   174.435405   178.455264   175.486282  7.670688e+05   \n",
       "min    1056.510000  1071.320000  1013.540000  1056.620000  3.468000e+05   \n",
       "25%    1391.760000  1412.465000  1378.537500  1393.992500  1.396450e+06   \n",
       "50%    1471.070000  1488.980000  1459.435000  1475.340000  1.660750e+06   \n",
       "75%    1566.130000  1587.162500  1545.297500  1568.182500  2.155150e+06   \n",
       "max    1824.520000  1847.200000  1822.650000  1827.990000  4.329100e+06   \n",
       "\n",
       "       Dividends  Stock Splits  \n",
       "count      252.0         252.0  \n",
       "mean         0.0           0.0  \n",
       "std          0.0           0.0  \n",
       "min          0.0           0.0  \n",
       "25%          0.0           0.0  \n",
       "50%          0.0           0.0  \n",
       "75%          0.0           0.0  \n",
       "max          0.0           0.0  "
      ]
     },
     "execution_count": 23,
     "metadata": {},
     "output_type": "execute_result"
    }
   ],
   "source": [
    "goog.describe()"
   ]
  },
  {
   "cell_type": "code",
   "execution_count": 24,
   "metadata": {},
   "outputs": [
    {
     "name": "stdout",
     "output_type": "stream",
     "text": [
      "<class 'pandas.core.frame.DataFrame'>\n",
      "DatetimeIndex: 252 entries, 2020-01-02 to 2020-12-30\n",
      "Data columns (total 7 columns):\n",
      " #   Column        Non-Null Count  Dtype  \n",
      "---  ------        --------------  -----  \n",
      " 0   Open          252 non-null    float64\n",
      " 1   High          252 non-null    float64\n",
      " 2   Low           252 non-null    float64\n",
      " 3   Close         252 non-null    float64\n",
      " 4   Volume        252 non-null    int64  \n",
      " 5   Dividends     252 non-null    int64  \n",
      " 6   Stock Splits  252 non-null    int64  \n",
      "dtypes: float64(4), int64(3)\n",
      "memory usage: 15.8 KB\n"
     ]
    }
   ],
   "source": [
    "goog.info()"
   ]
  },
  {
   "cell_type": "code",
   "execution_count": 25,
   "metadata": {},
   "outputs": [
    {
     "data": {
      "text/plain": [
       "Open            float64\n",
       "High            float64\n",
       "Low             float64\n",
       "Close           float64\n",
       "Volume            int64\n",
       "Dividends         int64\n",
       "Stock Splits      int64\n",
       "dtype: object"
      ]
     },
     "execution_count": 25,
     "metadata": {},
     "output_type": "execute_result"
    }
   ],
   "source": [
    "goog.dtypes"
   ]
  },
  {
   "cell_type": "code",
   "execution_count": 26,
   "metadata": {
    "scrolled": true
   },
   "outputs": [
    {
     "data": {
      "text/plain": [
       "Open            0\n",
       "High            0\n",
       "Low             0\n",
       "Close           0\n",
       "Volume          0\n",
       "Dividends       0\n",
       "Stock Splits    0\n",
       "dtype: int64"
      ]
     },
     "execution_count": 26,
     "metadata": {},
     "output_type": "execute_result"
    }
   ],
   "source": [
    "goog.isna().sum()"
   ]
  },
  {
   "cell_type": "markdown",
   "metadata": {},
   "source": [
    "## Create Simple Moving Average Column"
   ]
  },
  {
   "cell_type": "markdown",
   "metadata": {},
   "source": [
    "![Moving Average](../Assets/Moving-Average-Formula.jpg)\n",
    "________________________________________________________________________________________________________________________\n",
    "\n",
    "![Exponential Moving Average Formula](../Assets/Exponential-Moving-Average-Formula.jpg)"
   ]
  },
  {
   "cell_type": "code",
   "execution_count": 27,
   "metadata": {},
   "outputs": [],
   "source": [
    "SMA_50 = goog['Close'].rolling(50).mean()\n",
    "goog['SMA50'] = SMA_50"
   ]
  },
  {
   "cell_type": "markdown",
   "metadata": {},
   "source": [
    "## Create Transmition Column"
   ]
  },
  {
   "cell_type": "markdown",
   "metadata": {},
   "source": [
    "### Transmition (Difference) : $ Y_i = X_i - X_{i-1}$"
   ]
  },
  {
   "cell_type": "code",
   "execution_count": 28,
   "metadata": {},
   "outputs": [],
   "source": [
    "Xi   = goog['Close']\n",
    "Xi_1 = goog['Close'].shift(-1)\n",
    "Yi   = Xi - Xi_1\n",
    "goog['Difference'] = Yi"
   ]
  },
  {
   "cell_type": "code",
   "execution_count": 29,
   "metadata": {},
   "outputs": [
    {
     "data": {
      "text/html": [
       "<div>\n",
       "<style scoped>\n",
       "    .dataframe tbody tr th:only-of-type {\n",
       "        vertical-align: middle;\n",
       "    }\n",
       "\n",
       "    .dataframe tbody tr th {\n",
       "        vertical-align: top;\n",
       "    }\n",
       "\n",
       "    .dataframe thead th {\n",
       "        text-align: right;\n",
       "    }\n",
       "</style>\n",
       "<table border=\"1\" class=\"dataframe\">\n",
       "  <thead>\n",
       "    <tr style=\"text-align: right;\">\n",
       "      <th></th>\n",
       "      <th>Open</th>\n",
       "      <th>High</th>\n",
       "      <th>Low</th>\n",
       "      <th>Close</th>\n",
       "      <th>Volume</th>\n",
       "      <th>Dividends</th>\n",
       "      <th>Stock Splits</th>\n",
       "      <th>SMA50</th>\n",
       "      <th>Difference</th>\n",
       "    </tr>\n",
       "    <tr>\n",
       "      <th>Date</th>\n",
       "      <th></th>\n",
       "      <th></th>\n",
       "      <th></th>\n",
       "      <th></th>\n",
       "      <th></th>\n",
       "      <th></th>\n",
       "      <th></th>\n",
       "      <th></th>\n",
       "      <th></th>\n",
       "    </tr>\n",
       "  </thead>\n",
       "  <tbody>\n",
       "    <tr>\n",
       "      <th>2020-01-02</th>\n",
       "      <td>1341.55</td>\n",
       "      <td>1368.14</td>\n",
       "      <td>1341.55</td>\n",
       "      <td>1367.37</td>\n",
       "      <td>1406600</td>\n",
       "      <td>0</td>\n",
       "      <td>0</td>\n",
       "      <td>NaN</td>\n",
       "      <td>6.71</td>\n",
       "    </tr>\n",
       "    <tr>\n",
       "      <th>2020-01-03</th>\n",
       "      <td>1347.86</td>\n",
       "      <td>1372.50</td>\n",
       "      <td>1345.54</td>\n",
       "      <td>1360.66</td>\n",
       "      <td>1186400</td>\n",
       "      <td>0</td>\n",
       "      <td>0</td>\n",
       "      <td>NaN</td>\n",
       "      <td>-33.55</td>\n",
       "    </tr>\n",
       "    <tr>\n",
       "      <th>2020-01-06</th>\n",
       "      <td>1350.00</td>\n",
       "      <td>1396.50</td>\n",
       "      <td>1350.00</td>\n",
       "      <td>1394.21</td>\n",
       "      <td>1732300</td>\n",
       "      <td>0</td>\n",
       "      <td>0</td>\n",
       "      <td>NaN</td>\n",
       "      <td>0.87</td>\n",
       "    </tr>\n",
       "    <tr>\n",
       "      <th>2020-01-07</th>\n",
       "      <td>1397.94</td>\n",
       "      <td>1402.99</td>\n",
       "      <td>1390.38</td>\n",
       "      <td>1393.34</td>\n",
       "      <td>1502700</td>\n",
       "      <td>0</td>\n",
       "      <td>0</td>\n",
       "      <td>NaN</td>\n",
       "      <td>-10.98</td>\n",
       "    </tr>\n",
       "    <tr>\n",
       "      <th>2020-01-08</th>\n",
       "      <td>1392.08</td>\n",
       "      <td>1411.58</td>\n",
       "      <td>1390.84</td>\n",
       "      <td>1404.32</td>\n",
       "      <td>1528000</td>\n",
       "      <td>0</td>\n",
       "      <td>0</td>\n",
       "      <td>NaN</td>\n",
       "      <td>-15.51</td>\n",
       "    </tr>\n",
       "  </tbody>\n",
       "</table>\n",
       "</div>"
      ],
      "text/plain": [
       "               Open     High      Low    Close   Volume  Dividends  \\\n",
       "Date                                                                 \n",
       "2020-01-02  1341.55  1368.14  1341.55  1367.37  1406600          0   \n",
       "2020-01-03  1347.86  1372.50  1345.54  1360.66  1186400          0   \n",
       "2020-01-06  1350.00  1396.50  1350.00  1394.21  1732300          0   \n",
       "2020-01-07  1397.94  1402.99  1390.38  1393.34  1502700          0   \n",
       "2020-01-08  1392.08  1411.58  1390.84  1404.32  1528000          0   \n",
       "\n",
       "            Stock Splits  SMA50  Difference  \n",
       "Date                                         \n",
       "2020-01-02             0    NaN        6.71  \n",
       "2020-01-03             0    NaN      -33.55  \n",
       "2020-01-06             0    NaN        0.87  \n",
       "2020-01-07             0    NaN      -10.98  \n",
       "2020-01-08             0    NaN      -15.51  "
      ]
     },
     "execution_count": 29,
     "metadata": {},
     "output_type": "execute_result"
    }
   ],
   "source": [
    "goog.head()"
   ]
  },
  {
   "cell_type": "markdown",
   "metadata": {},
   "source": [
    "# Data Visualization"
   ]
  },
  {
   "cell_type": "code",
   "execution_count": 30,
   "metadata": {},
   "outputs": [
    {
     "data": {
      "image/png": "[encoded data removed]",
      "text/plain": [
       "<Figure size 1440x864 with 1 Axes>"
      ]
     },
     "metadata": {
      "needs_background": "light"
     },
     "output_type": "display_data"
    }
   ],
   "source": [
    "mpp.figure(figsize=(20, 12))\n",
    "\n",
    "hline_zero = pd.Series(np.zeros(goog.shape[0]), index=goog.index)\n",
    "\n",
    "goog['Difference'].plot(color='green')\n",
    "hline_zero.plot(color='red')\n",
    "\n",
    "mpp.fill_between(x=goog.index, y1=0, y2=goog['Difference'].min(), color='red', alpha=0.1)\n",
    "mpp.show()"
   ]
  },
  {
   "cell_type": "code",
   "execution_count": 37,
   "metadata": {},
   "outputs": [
    {
     "data": {
      "application/vnd.plotly.v1+json": {
       "config": {
        "plotlyServerURL": "https://plot.ly"
       },
       "data": [
        {
         "close": [
          1367.37,
          1360.66,
          1394.21,
          1393.34,
          1404.32,
          1419.83,
          1429.73,
          1439.23,
          1430.88,
          1439.2,
          1451.7,
          1480.39,
          1484.4,
          1485.95,
          1486.65,
          1466.71,
          1433.9,
          1452.56,
          1458.63,
          1455.84,
          1434.23,
          1485.94,
          1447.07,
          1448.23,
          1476.23,
          1479.23,
          1508.68,
          1508.79,
          1518.27,
          1514.66,
          1520.74,
          1519.67,
          1526.69,
          1518.15,
          1485.11,
          1421.59,
          1388.45,
          1393.18,
          1318.09,
          1339.33,
          1389.11,
          1341.39,
          1386.52,
          1319.04,
          1298.41,
          1215.56,
          1280.39,
          1215.41,
          1114.91,
          1219.73,
          1084.33,
          1119.8,
          1096.8,
          1115.29,
          1072.32,
          1056.62,
          1134.46,
          1102.49,
          1161.75,
          1110.71,
          1146.82,
          1162.81,
          1105.62,
          1120.84,
          1097.88,
          1186.92,
          1186.51,
          1210.28,
          1211.45,
          1217.56,
          1269.23,
          1262.47,
          1263.47,
          1283.25,
          1266.61,
          1216.34,
          1263.21,
          1276.31,
          1279.31,
          1275.88,
          1233.67,
          1341.48,
          1348.66,
          1320.61,
          1326.8,
          1351.11,
          1347.3,
          1372.56,
          1388.37,
          1403.26,
          1375.74,
          1349.33,
          1356.13,
          1373.19,
          1383.94,
          1373.48,
          1406.72,
          1402.8,
          1410.42,
          1417.02,
          1417.84,
          1416.73,
          1428.92,
          1431.82,
          1439.22,
          1436.38,
          1412.18,
          1438.39,
          1446.61,
          1456.16,
          1465.85,
          1403.84,
          1413.18,
          1419.85,
          1442.72,
          1451.12,
          1435.96,
          1431.72,
          1451.86,
          1464.41,
          1431.97,
          1441.33,
          1359.9,
          1394.97,
          1413.61,
          1438.04,
          1464.7,
          1495.7,
          1485.18,
          1496,
          1510.99,
          1541.74,
          1511.34,
          1520.58,
          1513.64,
          1518,
          1515.55,
          1565.72,
          1558.42,
          1568.49,
          1515.68,
          1511.87,
          1530.2,
          1500.34,
          1522.02,
          1531.45,
          1482.96,
          1474.45,
          1464.97,
          1473.61,
          1500.1,
          1494.49,
          1496.1,
          1480.32,
          1506.62,
          1518.45,
          1507.73,
          1517.98,
          1558.6,
          1547.53,
          1581.75,
          1580.42,
          1588.2,
          1608.22,
          1652.38,
          1634.33,
          1644.41,
          1634.18,
          1660.71,
          1728.28,
          1641.84,
          1591.04,
          1532.39,
          1556.96,
          1532.02,
          1520.72,
          1519.28,
          1541.44,
          1520.9,
          1495.53,
          1459.99,
          1431.16,
          1465.46,
          1415.21,
          1428.29,
          1444.96,
          1464.52,
          1469.33,
          1469.6,
          1490.09,
          1458.42,
          1486.02,
          1453.44,
          1460.29,
          1485.93,
          1515.22,
          1569.15,
          1571.68,
          1568.08,
          1559.13,
          1573.01,
          1534.61,
          1555.93,
          1593.31,
          1615.33,
          1641,
          1590.45,
          1604.26,
          1516.62,
          1567.24,
          1621.01,
          1626.03,
          1650.21,
          1749.13,
          1763.37,
          1761.75,
          1763,
          1740.39,
          1752.71,
          1749.84,
          1777.02,
          1781.38,
          1770.15,
          1746.78,
          1763.92,
          1742.19,
          1734.86,
          1768.88,
          1771.43,
          1793.19,
          1760.74,
          1798.1,
          1827.95,
          1826.77,
          1827.99,
          1819.48,
          1818.55,
          1784.13,
          1775.33,
          1781.77,
          1760.06,
          1767.77,
          1763,
          1747.9,
          1731.01,
          1739.37,
          1723.5,
          1732.38,
          1738.85,
          1776.09,
          1758.72,
          1739.52
         ],
         "high": [
          1368.14,
          1372.5,
          1396.5,
          1402.99,
          1411.58,
          1427.33,
          1434.93,
          1440.52,
          1441.8,
          1441.4,
          1451.99,
          1481.3,
          1491.85,
          1503.21,
          1495.52,
          1495.49,
          1438.07,
          1456,
          1465.43,
          1457.28,
          1470.13,
          1490,
          1469.5,
          1463.84,
          1482,
          1485.84,
          1509.5,
          1529.63,
          1520.69,
          1527.18,
          1520.74,
          1531.63,
          1532.11,
          1529.64,
          1512.21,
          1436.97,
          1438.14,
          1415.7,
          1371.7,
          1341.14,
          1390.87,
          1410.15,
          1388.09,
          1358.91,
          1306.22,
          1254.76,
          1281.15,
          1260.96,
          1193.87,
          1219.76,
          1152.27,
          1130.86,
          1106.5,
          1157.97,
          1143.99,
          1071.32,
          1135,
          1148.9,
          1169.97,
          1150.67,
          1151.63,
          1175.31,
          1129.69,
          1126.86,
          1123.54,
          1194.66,
          1225,
          1219.07,
          1225.57,
          1220.51,
          1282.07,
          1280.46,
          1279,
          1294.43,
          1281.6,
          1254.27,
          1285.61,
          1293.31,
          1280.4,
          1296.15,
          1288.05,
          1359.99,
          1352.82,
          1352.07,
          1327.66,
          1373.94,
          1371.12,
          1377.6,
          1398.76,
          1416.53,
          1415,
          1385.48,
          1357.42,
          1374.48,
          1392.32,
          1392,
          1410.42,
          1415.49,
          1412.76,
          1441,
          1421.74,
          1440.84,
          1432.57,
          1437.96,
          1439.61,
          1446.55,
          1438.96,
          1445.05,
          1447.99,
          1468,
          1474.26,
          1454.47,
          1437,
          1424.8,
          1455.02,
          1460,
          1451.41,
          1447.8,
          1452.75,
          1475.94,
          1475.42,
          1442.9,
          1433.45,
          1395.6,
          1418.65,
          1443,
          1482.95,
          1506.59,
          1516.8,
          1505.88,
          1522.72,
          1543.83,
          1577.13,
          1522.95,
          1535.33,
          1518.69,
          1523.44,
          1570.29,
          1586.99,
          1570,
          1571.87,
          1517.64,
          1540.97,
          1526.48,
          1531.25,
          1537.87,
          1508.95,
          1490.47,
          1485.56,
          1482.41,
          1502.39,
          1516.84,
          1504.07,
          1510,
          1512.39,
          1537.25,
          1521.9,
          1525.61,
          1562.47,
          1573.68,
          1585.87,
          1597.72,
          1614.17,
          1611.62,
          1659.22,
          1655,
          1647.17,
          1647.96,
          1665.73,
          1733.18,
          1709.71,
          1645.11,
          1563.86,
          1569,
          1584.08,
          1575.2,
          1564,
          1559.57,
          1562,
          1508.3,
          1503,
          1448.36,
          1469.52,
          1460.96,
          1443.71,
          1450,
          1476.8,
          1476.66,
          1489.75,
          1499.04,
          1483.2,
          1488.21,
          1486.76,
          1468.96,
          1490,
          1516.52,
          1593.86,
          1590,
          1587.68,
          1575.1,
          1581.13,
          1588.15,
          1577.5,
          1618.73,
          1621.99,
          1642.36,
          1638.24,
          1606.84,
          1561.35,
          1593.71,
          1687,
          1660.77,
          1661.7,
          1771.36,
          1793.64,
          1772.43,
          1818.06,
          1763,
          1764.22,
          1768.27,
          1781.04,
          1799.07,
          1785,
          1773.47,
          1769.59,
          1774,
          1753.9,
          1771.6,
          1778.54,
          1804,
          1788.06,
          1824.83,
          1835.65,
          1847.2,
          1833.16,
          1832.37,
          1821.9,
          1834.27,
          1781.31,
          1784.45,
          1797.39,
          1771.42,
          1773,
          1771.78,
          1755.11,
          1740.85,
          1737.41,
          1747.99,
          1746,
          1790.73,
          1792.44,
          1765.09
         ],
         "low": [
          1341.55,
          1345.54,
          1350,
          1390.38,
          1390.84,
          1410.27,
          1418.35,
          1426.02,
          1428.37,
          1430.21,
          1440.92,
          1458.22,
          1471.2,
          1484.93,
          1482.1,
          1465.25,
          1421.2,
          1432.47,
          1446.74,
          1436.4,
          1428.53,
          1458.99,
          1426.3,
          1430.56,
          1449.57,
          1466.35,
          1474.32,
          1505.64,
          1508.11,
          1504.6,
          1507.34,
          1512.59,
          1521.4,
          1506.82,
          1480.44,
          1411.39,
          1382.4,
          1379,
          1317.17,
          1271,
          1326.81,
          1332,
          1343.11,
          1305.1,
          1261.05,
          1200,
          1218.77,
          1196.07,
          1113.3,
          1117.14,
          1074.44,
          1056.01,
          1037.28,
          1060.11,
          1065.49,
          1013.54,
          1090.62,
          1086.01,
          1093.53,
          1105.91,
          1096.48,
          1138.14,
          1097.45,
          1096.4,
          1079.81,
          1130.94,
          1182.23,
          1188.16,
          1196.73,
          1187.6,
          1236.93,
          1240.4,
          1242.62,
          1271.23,
          1261.37,
          1209.71,
          1242,
          1265.67,
          1249.45,
          1269,
          1232.2,
          1325.34,
          1322.49,
          1311,
          1299,
          1337.46,
          1347.29,
          1355.27,
          1375.48,
          1377.15,
          1374.77,
          1328.4,
          1323.91,
          1339,
          1354.25,
          1373.48,
          1387.25,
          1393.45,
          1391.83,
          1412.13,
          1391.29,
          1396,
          1413.35,
          1418,
          1418.83,
          1429.78,
          1404.73,
          1406,
          1422.34,
          1443.21,
          1456.27,
          1402,
          1386.02,
          1387.92,
          1425.9,
          1431.38,
          1427.01,
          1421.35,
          1423.21,
          1445.24,
          1429.75,
          1420,
          1351.99,
          1347.01,
          1383.96,
          1409.82,
          1446.42,
          1472.86,
          1483.55,
          1485.63,
          1488.08,
          1496.54,
          1505.24,
          1483.5,
          1498,
          1486.31,
          1498.42,
          1503.6,
          1554.28,
          1546.1,
          1507.39,
          1488.4,
          1515.21,
          1497.66,
          1501.33,
          1492.22,
          1454.03,
          1465.64,
          1458.65,
          1463.46,
          1466,
          1481.64,
          1473.08,
          1478,
          1485.25,
          1508.01,
          1502.88,
          1507.97,
          1523.71,
          1543.95,
          1538.2,
          1568.01,
          1580.57,
          1582.07,
          1603.6,
          1625.75,
          1630.75,
          1630.31,
          1632.22,
          1666.33,
          1615.06,
          1547.61,
          1528.01,
          1536.05,
          1525.81,
          1497.36,
          1515.74,
          1531.83,
          1519.82,
          1470,
          1437.13,
          1406.55,
          1434.53,
          1407.7,
          1409.85,
          1413.34,
          1449.3,
          1458.81,
          1459.88,
          1479.21,
          1450.92,
          1464.27,
          1448.59,
          1436,
          1465.09,
          1489.45,
          1532.57,
          1563.2,
          1550.53,
          1545.03,
          1563,
          1528,
          1525.67,
          1571.63,
          1585,
          1620.51,
          1576.5,
          1582.78,
          1514.62,
          1522.24,
          1604.46,
          1616.03,
          1616.62,
          1706.03,
          1750.51,
          1740.35,
          1760.02,
          1717.3,
          1747.36,
          1745.6,
          1744.55,
          1767.69,
          1767,
          1746.14,
          1737.01,
          1741.86,
          1717.72,
          1727.69,
          1756.54,
          1772.44,
          1755,
          1769.37,
          1789.47,
          1822.65,
          1816.99,
          1805.78,
          1796.2,
          1767.81,
          1740.32,
          1760,
          1757.21,
          1749.95,
          1756.08,
          1738.66,
          1720.22,
          1699,
          1712.57,
          1725.04,
          1729.11,
          1746.33,
          1756.09,
          1725.6
         ],
         "open": [
          1341.55,
          1347.86,
          1350,
          1397.94,
          1392.08,
          1420.57,
          1427.56,
          1436.13,
          1439.01,
          1430.21,
          1447.44,
          1462.91,
          1479.12,
          1491,
          1487.64,
          1493.59,
          1431,
          1443,
          1458.8,
          1439.96,
          1468.9,
          1462,
          1457.07,
          1462.42,
          1450.33,
          1467.3,
          1474.32,
          1511.81,
          1514.48,
          1512.69,
          1515.6,
          1515,
          1525.07,
          1522,
          1508.03,
          1426.11,
          1433,
          1396.14,
          1362.06,
          1277.5,
          1351.61,
          1399.42,
          1359.23,
          1350.2,
          1277.06,
          1205.3,
          1260,
          1249.7,
          1126,
          1179,
          1096,
          1093.11,
          1056.51,
          1093.05,
          1135.72,
          1061.32,
          1103.77,
          1126.47,
          1111.8,
          1125.67,
          1125.04,
          1147.3,
          1122,
          1098.26,
          1119.02,
          1138,
          1221,
          1206.5,
          1224.08,
          1209.18,
          1245.09,
          1245.61,
          1274.1,
          1284.85,
          1271,
          1247,
          1245.54,
          1271.55,
          1261.17,
          1296,
          1287.93,
          1341.46,
          1324.88,
          1328.5,
          1308.23,
          1337.92,
          1361.69,
          1365.94,
          1383.13,
          1378.28,
          1407.12,
          1377.05,
          1335.02,
          1350,
          1361.75,
          1387,
          1389.58,
          1408,
          1396.71,
          1437.27,
          1417.25,
          1396.86,
          1416.94,
          1418.39,
          1430.55,
          1438.3,
          1430.4,
          1413.17,
          1422.34,
          1445.36,
          1459.54,
          1442.48,
          1428.49,
          1390.8,
          1445.22,
          1447.16,
          1449.16,
          1444,
          1429,
          1455.64,
          1461.51,
          1429.9,
          1431.39,
          1358.18,
          1390.44,
          1411.1,
          1446.94,
          1480.06,
          1490,
          1494.32,
          1506.45,
          1506.15,
          1550,
          1490.31,
          1523.13,
          1500,
          1521.62,
          1515.26,
          1586.99,
          1560.5,
          1566.97,
          1498.93,
          1515.6,
          1525.18,
          1506.32,
          1497,
          1505.01,
          1486.64,
          1476.57,
          1469.3,
          1471.75,
          1500,
          1487.18,
          1492.44,
          1485.58,
          1510.34,
          1515.66,
          1514.67,
          1526.18,
          1553.31,
          1543.45,
          1577.03,
          1593.98,
          1582.07,
          1608,
          1653.68,
          1633.49,
          1647.89,
          1636.63,
          1673.78,
          1709.71,
          1624.26,
          1533.51,
          1557.53,
          1560.64,
          1536,
          1539.01,
          1536,
          1555.54,
          1496,
          1498.01,
          1440.06,
          1450.09,
          1458.78,
          1411.03,
          1432.63,
          1474.21,
          1470.39,
          1466.8,
          1484.27,
          1462.03,
          1466.21,
          1475.58,
          1464.29,
          1465.09,
          1494.7,
          1543,
          1583.73,
          1578.59,
          1547.15,
          1565.85,
          1580.46,
          1527.05,
          1573.33,
          1593.05,
          1626.07,
          1625.01,
          1595.67,
          1559.74,
          1522.36,
          1672.11,
          1628.16,
          1631.78,
          1710.28,
          1781,
          1753.95,
          1790.9,
          1731.09,
          1750,
          1747.63,
          1757.63,
          1771.7,
          1776.94,
          1765.23,
          1738.38,
          1765.21,
          1749.6,
          1730.5,
          1772.89,
          1773.09,
          1781.18,
          1774.37,
          1798.1,
          1824.01,
          1824.52,
          1819,
          1810.1,
          1812.01,
          1769.8,
          1763.06,
          1775,
          1764.42,
          1772.88,
          1768.51,
          1754.18,
          1713.51,
          1734.43,
          1728.11,
          1735,
          1751.64,
          1787.79,
          1762.01
         ],
         "type": "candlestick",
         "x": [
          "2020-01-02T00:00:00",
          "2020-01-03T00:00:00",
          "2020-01-06T00:00:00",
          "2020-01-07T00:00:00",
          "2020-01-08T00:00:00",
          "2020-01-09T00:00:00",
          "2020-01-10T00:00:00",
          "2020-01-13T00:00:00",
          "2020-01-14T00:00:00",
          "2020-01-15T00:00:00",
          "2020-01-16T00:00:00",
          "2020-01-17T00:00:00",
          "2020-01-21T00:00:00",
          "2020-01-22T00:00:00",
          "2020-01-23T00:00:00",
          "2020-01-24T00:00:00",
          "2020-01-27T00:00:00",
          "2020-01-28T00:00:00",
          "2020-01-29T00:00:00",
          "2020-01-30T00:00:00",
          "2020-01-31T00:00:00",
          "2020-02-03T00:00:00",
          "2020-02-04T00:00:00",
          "2020-02-05T00:00:00",
          "2020-02-06T00:00:00",
          "2020-02-07T00:00:00",
          "2020-02-10T00:00:00",
          "2020-02-11T00:00:00",
          "2020-02-12T00:00:00",
          "2020-02-13T00:00:00",
          "2020-02-14T00:00:00",
          "2020-02-18T00:00:00",
          "2020-02-19T00:00:00",
          "2020-02-20T00:00:00",
          "2020-02-21T00:00:00",
          "2020-02-24T00:00:00",
          "2020-02-25T00:00:00",
          "2020-02-26T00:00:00",
          "2020-02-27T00:00:00",
          "2020-02-28T00:00:00",
          "2020-03-02T00:00:00",
          "2020-03-03T00:00:00",
          "2020-03-04T00:00:00",
          "2020-03-05T00:00:00",
          "2020-03-06T00:00:00",
          "2020-03-09T00:00:00",
          "2020-03-10T00:00:00",
          "2020-03-11T00:00:00",
          "2020-03-12T00:00:00",
          "2020-03-13T00:00:00",
          "2020-03-16T00:00:00",
          "2020-03-17T00:00:00",
          "2020-03-18T00:00:00",
          "2020-03-19T00:00:00",
          "2020-03-20T00:00:00",
          "2020-03-23T00:00:00",
          "2020-03-24T00:00:00",
          "2020-03-25T00:00:00",
          "2020-03-26T00:00:00",
          "2020-03-27T00:00:00",
          "2020-03-30T00:00:00",
          "2020-03-31T00:00:00",
          "2020-04-01T00:00:00",
          "2020-04-02T00:00:00",
          "2020-04-03T00:00:00",
          "2020-04-06T00:00:00",
          "2020-04-07T00:00:00",
          "2020-04-08T00:00:00",
          "2020-04-09T00:00:00",
          "2020-04-13T00:00:00",
          "2020-04-14T00:00:00",
          "2020-04-15T00:00:00",
          "2020-04-16T00:00:00",
          "2020-04-17T00:00:00",
          "2020-04-20T00:00:00",
          "2020-04-21T00:00:00",
          "2020-04-22T00:00:00",
          "2020-04-23T00:00:00",
          "2020-04-24T00:00:00",
          "2020-04-27T00:00:00",
          "2020-04-28T00:00:00",
          "2020-04-29T00:00:00",
          "2020-04-30T00:00:00",
          "2020-05-01T00:00:00",
          "2020-05-04T00:00:00",
          "2020-05-05T00:00:00",
          "2020-05-06T00:00:00",
          "2020-05-07T00:00:00",
          "2020-05-08T00:00:00",
          "2020-05-11T00:00:00",
          "2020-05-12T00:00:00",
          "2020-05-13T00:00:00",
          "2020-05-14T00:00:00",
          "2020-05-15T00:00:00",
          "2020-05-18T00:00:00",
          "2020-05-19T00:00:00",
          "2020-05-20T00:00:00",
          "2020-05-21T00:00:00",
          "2020-05-22T00:00:00",
          "2020-05-26T00:00:00",
          "2020-05-27T00:00:00",
          "2020-05-28T00:00:00",
          "2020-05-29T00:00:00",
          "2020-06-01T00:00:00",
          "2020-06-02T00:00:00",
          "2020-06-03T00:00:00",
          "2020-06-04T00:00:00",
          "2020-06-05T00:00:00",
          "2020-06-08T00:00:00",
          "2020-06-09T00:00:00",
          "2020-06-10T00:00:00",
          "2020-06-11T00:00:00",
          "2020-06-12T00:00:00",
          "2020-06-15T00:00:00",
          "2020-06-16T00:00:00",
          "2020-06-17T00:00:00",
          "2020-06-18T00:00:00",
          "2020-06-19T00:00:00",
          "2020-06-22T00:00:00",
          "2020-06-23T00:00:00",
          "2020-06-24T00:00:00",
          "2020-06-25T00:00:00",
          "2020-06-26T00:00:00",
          "2020-06-29T00:00:00",
          "2020-06-30T00:00:00",
          "2020-07-01T00:00:00",
          "2020-07-02T00:00:00",
          "2020-07-06T00:00:00",
          "2020-07-07T00:00:00",
          "2020-07-08T00:00:00",
          "2020-07-09T00:00:00",
          "2020-07-10T00:00:00",
          "2020-07-13T00:00:00",
          "2020-07-14T00:00:00",
          "2020-07-15T00:00:00",
          "2020-07-16T00:00:00",
          "2020-07-17T00:00:00",
          "2020-07-20T00:00:00",
          "2020-07-21T00:00:00",
          "2020-07-22T00:00:00",
          "2020-07-23T00:00:00",
          "2020-07-24T00:00:00",
          "2020-07-27T00:00:00",
          "2020-07-28T00:00:00",
          "2020-07-29T00:00:00",
          "2020-07-30T00:00:00",
          "2020-07-31T00:00:00",
          "2020-08-03T00:00:00",
          "2020-08-04T00:00:00",
          "2020-08-05T00:00:00",
          "2020-08-06T00:00:00",
          "2020-08-07T00:00:00",
          "2020-08-10T00:00:00",
          "2020-08-11T00:00:00",
          "2020-08-12T00:00:00",
          "2020-08-13T00:00:00",
          "2020-08-14T00:00:00",
          "2020-08-17T00:00:00",
          "2020-08-18T00:00:00",
          "2020-08-19T00:00:00",
          "2020-08-20T00:00:00",
          "2020-08-21T00:00:00",
          "2020-08-24T00:00:00",
          "2020-08-25T00:00:00",
          "2020-08-26T00:00:00",
          "2020-08-27T00:00:00",
          "2020-08-28T00:00:00",
          "2020-08-31T00:00:00",
          "2020-09-01T00:00:00",
          "2020-09-02T00:00:00",
          "2020-09-03T00:00:00",
          "2020-09-04T00:00:00",
          "2020-09-08T00:00:00",
          "2020-09-09T00:00:00",
          "2020-09-10T00:00:00",
          "2020-09-11T00:00:00",
          "2020-09-14T00:00:00",
          "2020-09-15T00:00:00",
          "2020-09-16T00:00:00",
          "2020-09-17T00:00:00",
          "2020-09-18T00:00:00",
          "2020-09-21T00:00:00",
          "2020-09-22T00:00:00",
          "2020-09-23T00:00:00",
          "2020-09-24T00:00:00",
          "2020-09-25T00:00:00",
          "2020-09-28T00:00:00",
          "2020-09-29T00:00:00",
          "2020-09-30T00:00:00",
          "2020-10-01T00:00:00",
          "2020-10-02T00:00:00",
          "2020-10-05T00:00:00",
          "2020-10-06T00:00:00",
          "2020-10-07T00:00:00",
          "2020-10-08T00:00:00",
          "2020-10-09T00:00:00",
          "2020-10-12T00:00:00",
          "2020-10-13T00:00:00",
          "2020-10-14T00:00:00",
          "2020-10-15T00:00:00",
          "2020-10-16T00:00:00",
          "2020-10-19T00:00:00",
          "2020-10-20T00:00:00",
          "2020-10-21T00:00:00",
          "2020-10-22T00:00:00",
          "2020-10-23T00:00:00",
          "2020-10-26T00:00:00",
          "2020-10-27T00:00:00",
          "2020-10-28T00:00:00",
          "2020-10-29T00:00:00",
          "2020-10-30T00:00:00",
          "2020-11-02T00:00:00",
          "2020-11-03T00:00:00",
          "2020-11-04T00:00:00",
          "2020-11-05T00:00:00",
          "2020-11-06T00:00:00",
          "2020-11-09T00:00:00",
          "2020-11-10T00:00:00",
          "2020-11-11T00:00:00",
          "2020-11-12T00:00:00",
          "2020-11-13T00:00:00",
          "2020-11-16T00:00:00",
          "2020-11-17T00:00:00",
          "2020-11-18T00:00:00",
          "2020-11-19T00:00:00",
          "2020-11-20T00:00:00",
          "2020-11-23T00:00:00",
          "2020-11-24T00:00:00",
          "2020-11-25T00:00:00",
          "2020-11-27T00:00:00",
          "2020-11-30T00:00:00",
          "2020-12-01T00:00:00",
          "2020-12-02T00:00:00",
          "2020-12-03T00:00:00",
          "2020-12-04T00:00:00",
          "2020-12-07T00:00:00",
          "2020-12-08T00:00:00",
          "2020-12-09T00:00:00",
          "2020-12-10T00:00:00",
          "2020-12-11T00:00:00",
          "2020-12-14T00:00:00",
          "2020-12-15T00:00:00",
          "2020-12-16T00:00:00",
          "2020-12-17T00:00:00",
          "2020-12-18T00:00:00",
          "2020-12-21T00:00:00",
          "2020-12-22T00:00:00",
          "2020-12-23T00:00:00",
          "2020-12-24T00:00:00",
          "2020-12-28T00:00:00",
          "2020-12-29T00:00:00",
          "2020-12-30T00:00:00"
         ]
        }
       ],
       "layout": {
        "template": {
         "data": {
          "bar": [
           {
            "error_x": {
             "color": "#2a3f5f"
            },
            "error_y": {
             "color": "#2a3f5f"
            },
            "marker": {
             "line": {
              "color": "#E5ECF6",
              "width": 0.5
             }
            },
            "type": "bar"
           }
          ],
          "barpolar": [
           {
            "marker": {
             "line": {
              "color": "#E5ECF6",
              "width": 0.5
             }
            },
            "type": "barpolar"
           }
          ],
          "carpet": [
           {
            "aaxis": {
             "endlinecolor": "#2a3f5f",
             "gridcolor": "white",
             "linecolor": "white",
             "minorgridcolor": "white",
             "startlinecolor": "#2a3f5f"
            },
            "baxis": {
             "endlinecolor": "#2a3f5f",
             "gridcolor": "white",
             "linecolor": "white",
             "minorgridcolor": "white",
             "startlinecolor": "#2a3f5f"
            },
            "type": "carpet"
           }
          ],
          "choropleth": [
           {
            "colorbar": {
             "outlinewidth": 0,
             "ticks": ""
            },
            "type": "choropleth"
           }
          ],
          "contour": [
           {
            "colorbar": {
             "outlinewidth": 0,
             "ticks": ""
            },
            "colorscale": [
             [
              0,
              "#0d0887"
             ],
             [
              0.1111111111111111,
              "#46039f"
             ],
             [
              0.2222222222222222,
              "#7201a8"
             ],
             [
              0.3333333333333333,
              "#9c179e"
             ],
             [
              0.4444444444444444,
              "#bd3786"
             ],
             [
              0.5555555555555556,
              "#d8576b"
             ],
             [
              0.6666666666666666,
              "#ed7953"
             ],
             [
              0.7777777777777778,
              "#fb9f3a"
             ],
             [
              0.8888888888888888,
              "#fdca26"
             ],
             [
              1,
              "#f0f921"
             ]
            ],
            "type": "contour"
           }
          ],
          "contourcarpet": [
           {
            "colorbar": {
             "outlinewidth": 0,
             "ticks": ""
            },
            "type": "contourcarpet"
           }
          ],
          "heatmap": [
           {
            "colorbar": {
             "outlinewidth": 0,
             "ticks": ""
            },
            "colorscale": [
             [
              0,
              "#0d0887"
             ],
             [
              0.1111111111111111,
              "#46039f"
             ],
             [
              0.2222222222222222,
              "#7201a8"
             ],
             [
              0.3333333333333333,
              "#9c179e"
             ],
             [
              0.4444444444444444,
              "#bd3786"
             ],
             [
              0.5555555555555556,
              "#d8576b"
             ],
             [
              0.6666666666666666,
              "#ed7953"
             ],
             [
              0.7777777777777778,
              "#fb9f3a"
             ],
             [
              0.8888888888888888,
              "#fdca26"
             ],
             [
              1,
              "#f0f921"
             ]
            ],
            "type": "heatmap"
           }
          ],
          "heatmapgl": [
           {
            "colorbar": {
             "outlinewidth": 0,
             "ticks": ""
            },
            "colorscale": [
             [
              0,
              "#0d0887"
             ],
             [
              0.1111111111111111,
              "#46039f"
             ],
             [
              0.2222222222222222,
              "#7201a8"
             ],
             [
              0.3333333333333333,
              "#9c179e"
             ],
             [
              0.4444444444444444,
              "#bd3786"
             ],
             [
              0.5555555555555556,
              "#d8576b"
             ],
             [
              0.6666666666666666,
              "#ed7953"
             ],
             [
              0.7777777777777778,
              "#fb9f3a"
             ],
             [
              0.8888888888888888,
              "#fdca26"
             ],
             [
              1,
              "#f0f921"
             ]
            ],
            "type": "heatmapgl"
           }
          ],
          "histogram": [
           {
            "marker": {
             "colorbar": {
              "outlinewidth": 0,
              "ticks": ""
             }
            },
            "type": "histogram"
           }
          ],
          "histogram2d": [
           {
            "colorbar": {
             "outlinewidth": 0,
             "ticks": ""
            },
            "colorscale": [
             [
              0,
              "#0d0887"
             ],
             [
              0.1111111111111111,
              "#46039f"
             ],
             [
              0.2222222222222222,
              "#7201a8"
             ],
             [
              0.3333333333333333,
              "#9c179e"
             ],
             [
              0.4444444444444444,
              "#bd3786"
             ],
             [
              0.5555555555555556,
              "#d8576b"
             ],
             [
              0.6666666666666666,
              "#ed7953"
             ],
             [
              0.7777777777777778,
              "#fb9f3a"
             ],
             [
              0.8888888888888888,
              "#fdca26"
             ],
             [
              1,
              "#f0f921"
             ]
            ],
            "type": "histogram2d"
           }
          ],
          "histogram2dcontour": [
           {
            "colorbar": {
             "outlinewidth": 0,
             "ticks": ""
            },
            "colorscale": [
             [
              0,
              "#0d0887"
             ],
             [
              0.1111111111111111,
              "#46039f"
             ],
             [
              0.2222222222222222,
              "#7201a8"
             ],
             [
              0.3333333333333333,
              "#9c179e"
             ],
             [
              0.4444444444444444,
              "#bd3786"
             ],
             [
              0.5555555555555556,
              "#d8576b"
             ],
             [
              0.6666666666666666,
              "#ed7953"
             ],
             [
              0.7777777777777778,
              "#fb9f3a"
             ],
             [
              0.8888888888888888,
              "#fdca26"
             ],
             [
              1,
              "#f0f921"
             ]
            ],
            "type": "histogram2dcontour"
           }
          ],
          "mesh3d": [
           {
            "colorbar": {
             "outlinewidth": 0,
             "ticks": ""
            },
            "type": "mesh3d"
           }
          ],
          "parcoords": [
           {
            "line": {
             "colorbar": {
              "outlinewidth": 0,
              "ticks": ""
             }
            },
            "type": "parcoords"
           }
          ],
          "pie": [
           {
            "automargin": true,
            "type": "pie"
           }
          ],
          "scatter": [
           {
            "marker": {
             "colorbar": {
              "outlinewidth": 0,
              "ticks": ""
             }
            },
            "type": "scatter"
           }
          ],
          "scatter3d": [
           {
            "line": {
             "colorbar": {
              "outlinewidth": 0,
              "ticks": ""
             }
            },
            "marker": {
             "colorbar": {
              "outlinewidth": 0,
              "ticks": ""
             }
            },
            "type": "scatter3d"
           }
          ],
          "scattercarpet": [
           {
            "marker": {
             "colorbar": {
              "outlinewidth": 0,
              "ticks": ""
             }
            },
            "type": "scattercarpet"
           }
          ],
          "scattergeo": [
           {
            "marker": {
             "colorbar": {
              "outlinewidth": 0,
              "ticks": ""
             }
            },
            "type": "scattergeo"
           }
          ],
          "scattergl": [
           {
            "marker": {
             "colorbar": {
              "outlinewidth": 0,
              "ticks": ""
             }
            },
            "type": "scattergl"
           }
          ],
          "scattermapbox": [
           {
            "marker": {
             "colorbar": {
              "outlinewidth": 0,
              "ticks": ""
             }
            },
            "type": "scattermapbox"
           }
          ],
          "scatterpolar": [
           {
            "marker": {
             "colorbar": {
              "outlinewidth": 0,
              "ticks": ""
             }
            },
            "type": "scatterpolar"
           }
          ],
          "scatterpolargl": [
           {
            "marker": {
             "colorbar": {
              "outlinewidth": 0,
              "ticks": ""
             }
            },
            "type": "scatterpolargl"
           }
          ],
          "scatterternary": [
           {
            "marker": {
             "colorbar": {
              "outlinewidth": 0,
              "ticks": ""
             }
            },
            "type": "scatterternary"
           }
          ],
          "surface": [
           {
            "colorbar": {
             "outlinewidth": 0,
             "ticks": ""
            },
            "colorscale": [
             [
              0,
              "#0d0887"
             ],
             [
              0.1111111111111111,
              "#46039f"
             ],
             [
              0.2222222222222222,
              "#7201a8"
             ],
             [
              0.3333333333333333,
              "#9c179e"
             ],
             [
              0.4444444444444444,
              "#bd3786"
             ],
             [
              0.5555555555555556,
              "#d8576b"
             ],
             [
              0.6666666666666666,
              "#ed7953"
             ],
             [
              0.7777777777777778,
              "#fb9f3a"
             ],
             [
              0.8888888888888888,
              "#fdca26"
             ],
             [
              1,
              "#f0f921"
             ]
            ],
            "type": "surface"
           }
          ],
          "table": [
           {
            "cells": {
             "fill": {
              "color": "#EBF0F8"
             },
             "line": {
              "color": "white"
             }
            },
            "header": {
             "fill": {
              "color": "#C8D4E3"
             },
             "line": {
              "color": "white"
             }
            },
            "type": "table"
           }
          ]
         },
         "layout": {
          "annotationdefaults": {
           "arrowcolor": "#2a3f5f",
           "arrowhead": 0,
           "arrowwidth": 1
          },
          "autotypenumbers": "strict",
          "coloraxis": {
           "colorbar": {
            "outlinewidth": 0,
            "ticks": ""
           }
          },
          "colorscale": {
           "diverging": [
            [
             0,
             "#8e0152"
            ],
            [
             0.1,
             "#c51b7d"
            ],
            [
             0.2,
             "#de77ae"
            ],
            [
             0.3,
             "#f1b6da"
            ],
            [
             0.4,
             "#fde0ef"
            ],
            [
             0.5,
             "#f7f7f7"
            ],
            [
             0.6,
             "#e6f5d0"
            ],
            [
             0.7,
             "#b8e186"
            ],
            [
             0.8,
             "#7fbc41"
            ],
            [
             0.9,
             "#4d9221"
            ],
            [
             1,
             "#276419"
            ]
           ],
           "sequential": [
            [
             0,
             "#0d0887"
            ],
            [
             0.1111111111111111,
             "#46039f"
            ],
            [
             0.2222222222222222,
             "#7201a8"
            ],
            [
             0.3333333333333333,
             "#9c179e"
            ],
            [
             0.4444444444444444,
             "#bd3786"
            ],
            [
             0.5555555555555556,
             "#d8576b"
            ],
            [
             0.6666666666666666,
             "#ed7953"
            ],
            [
             0.7777777777777778,
             "#fb9f3a"
            ],
            [
             0.8888888888888888,
             "#fdca26"
            ],
            [
             1,
             "#f0f921"
            ]
           ],
           "sequentialminus": [
            [
             0,
             "#0d0887"
            ],
            [
             0.1111111111111111,
             "#46039f"
            ],
            [
             0.2222222222222222,
             "#7201a8"
            ],
            [
             0.3333333333333333,
             "#9c179e"
            ],
            [
             0.4444444444444444,
             "#bd3786"
            ],
            [
             0.5555555555555556,
             "#d8576b"
            ],
            [
             0.6666666666666666,
             "#ed7953"
            ],
            [
             0.7777777777777778,
             "#fb9f3a"
            ],
            [
             0.8888888888888888,
             "#fdca26"
            ],
            [
             1,
             "#f0f921"
            ]
           ]
          },
          "colorway": [
           "#636efa",
           "#EF553B",
           "#00cc96",
           "#ab63fa",
           "#FFA15A",
           "#19d3f3",
           "#FF6692",
           "#B6E880",
           "#FF97FF",
           "#FECB52"
          ],
          "font": {
           "color": "#2a3f5f"
          },
          "geo": {
           "bgcolor": "white",
           "lakecolor": "white",
           "landcolor": "#E5ECF6",
           "showlakes": true,
           "showland": true,
           "subunitcolor": "white"
          },
          "hoverlabel": {
           "align": "left"
          },
          "hovermode": "closest",
          "mapbox": {
           "style": "light"
          },
          "paper_bgcolor": "white",
          "plot_bgcolor": "#E5ECF6",
          "polar": {
           "angularaxis": {
            "gridcolor": "white",
            "linecolor": "white",
            "ticks": ""
           },
           "bgcolor": "#E5ECF6",
           "radialaxis": {
            "gridcolor": "white",
            "linecolor": "white",
            "ticks": ""
           }
          },
          "scene": {
           "xaxis": {
            "backgroundcolor": "#E5ECF6",
            "gridcolor": "white",
            "gridwidth": 2,
            "linecolor": "white",
            "showbackground": true,
            "ticks": "",
            "zerolinecolor": "white"
           },
           "yaxis": {
            "backgroundcolor": "#E5ECF6",
            "gridcolor": "white",
            "gridwidth": 2,
            "linecolor": "white",
            "showbackground": true,
            "ticks": "",
            "zerolinecolor": "white"
           },
           "zaxis": {
            "backgroundcolor": "#E5ECF6",
            "gridcolor": "white",
            "gridwidth": 2,
            "linecolor": "white",
            "showbackground": true,
            "ticks": "",
            "zerolinecolor": "white"
           }
          },
          "shapedefaults": {
           "line": {
            "color": "#2a3f5f"
           }
          },
          "ternary": {
           "aaxis": {
            "gridcolor": "white",
            "linecolor": "white",
            "ticks": ""
           },
           "baxis": {
            "gridcolor": "white",
            "linecolor": "white",
            "ticks": ""
           },
           "bgcolor": "#E5ECF6",
           "caxis": {
            "gridcolor": "white",
            "linecolor": "white",
            "ticks": ""
           }
          },
          "title": {
           "x": 0.05
          },
          "xaxis": {
           "automargin": true,
           "gridcolor": "white",
           "linecolor": "white",
           "ticks": "",
           "title": {
            "standoff": 15
           },
           "zerolinecolor": "white",
           "zerolinewidth": 2
          },
          "yaxis": {
           "automargin": true,
           "gridcolor": "white",
           "linecolor": "white",
           "ticks": "",
           "title": {
            "standoff": 15
           },
           "zerolinecolor": "white",
           "zerolinewidth": 2
          }
         }
        }
       }
      },
      "text/html": [
       "<div>                            <div id=\"d2d23680-6de5-475a-87ed-3739a34825e8\" class=\"plotly-graph-div\" style=\"height:525px; width:100%;\"></div>            <script type=\"text/javascript\">                require([\"plotly\"], function(Plotly) {                    window.PLOTLYENV=window.PLOTLYENV || {};                                    if (document.getElementById(\"d2d23680-6de5-475a-87ed-3739a34825e8\")) {                    Plotly.newPlot(                        \"d2d23680-6de5-475a-87ed-3739a34825e8\",                        [{\"close\": [1367.37, 1360.66, 1394.21, 1393.34, 1404.32, 1419.83, 1429.73, 1439.23, 1430.88, 1439.2, 1451.7, 1480.39, 1484.4, 1485.95, 1486.65, 1466.71, 1433.9, 1452.56, 1458.63, 1455.84, 1434.23, 1485.94, 1447.07, 1448.23, 1476.23, 1479.23, 1508.68, 1508.79, 1518.27, 1514.66, 1520.74, 1519.67, 1526.69, 1518.15, 1485.11, 1421.59, 1388.45, 1393.18, 1318.09, 1339.33, 1389.11, 1341.39, 1386.52, 1319.04, 1298.41, 1215.56, 1280.39, 1215.41, 1114.91, 1219.73, 1084.33, 1119.8, 1096.8, 1115.29, 1072.32, 1056.62, 1134.46, 1102.49, 1161.75, 1110.71, 1146.82, 1162.81, 1105.62, 1120.84, 1097.88, 1186.92, 1186.51, 1210.28, 1211.45, 1217.56, 1269.23, 1262.47, 1263.47, 1283.25, 1266.61, 1216.34, 1263.21, 1276.31, 1279.31, 1275.88, 1233.67, 1341.48, 1348.66, 1320.61, 1326.8, 1351.11, 1347.3, 1372.56, 1388.37, 1403.26, 1375.74, 1349.33, 1356.13, 1373.19, 1383.94, 1373.48, 1406.72, 1402.8, 1410.42, 1417.02, 1417.84, 1416.73, 1428.92, 1431.82, 1439.22, 1436.38, 1412.18, 1438.39, 1446.61, 1456.16, 1465.85, 1403.84, 1413.18, 1419.85, 1442.72, 1451.12, 1435.96, 1431.72, 1451.86, 1464.41, 1431.97, 1441.33, 1359.9, 1394.97, 1413.61, 1438.04, 1464.7, 1495.7, 1485.18, 1496.0, 1510.99, 1541.74, 1511.34, 1520.58, 1513.64, 1518.0, 1515.55, 1565.72, 1558.42, 1568.49, 1515.68, 1511.87, 1530.2, 1500.34, 1522.02, 1531.45, 1482.96, 1474.45, 1464.97, 1473.61, 1500.1, 1494.49, 1496.1, 1480.32, 1506.62, 1518.45, 1507.73, 1517.98, 1558.6, 1547.53, 1581.75, 1580.42, 1588.2, 1608.22, 1652.38, 1634.33, 1644.41, 1634.18, 1660.71, 1728.28, 1641.84, 1591.04, 1532.39, 1556.96, 1532.02, 1520.72, 1519.28, 1541.44, 1520.9, 1495.53, 1459.99, 1431.16, 1465.46, 1415.21, 1428.29, 1444.96, 1464.52, 1469.33, 1469.6, 1490.09, 1458.42, 1486.02, 1453.44, 1460.29, 1485.93, 1515.22, 1569.15, 1571.68, 1568.08, 1559.13, 1573.01, 1534.61, 1555.93, 1593.31, 1615.33, 1641.0, 1590.45, 1604.26, 1516.62, 1567.24, 1621.01, 1626.03, 1650.21, 1749.13, 1763.37, 1761.75, 1763.0, 1740.39, 1752.71, 1749.84, 1777.02, 1781.38, 1770.15, 1746.78, 1763.92, 1742.19, 1734.86, 1768.88, 1771.43, 1793.19, 1760.74, 1798.1, 1827.95, 1826.77, 1827.99, 1819.48, 1818.55, 1784.13, 1775.33, 1781.77, 1760.06, 1767.77, 1763.0, 1747.9, 1731.01, 1739.37, 1723.5, 1732.38, 1738.85, 1776.09, 1758.72, 1739.52], \"high\": [1368.14, 1372.5, 1396.5, 1402.99, 1411.58, 1427.33, 1434.93, 1440.52, 1441.8, 1441.4, 1451.99, 1481.3, 1491.85, 1503.21, 1495.52, 1495.49, 1438.07, 1456.0, 1465.43, 1457.28, 1470.13, 1490.0, 1469.5, 1463.84, 1482.0, 1485.84, 1509.5, 1529.63, 1520.69, 1527.18, 1520.74, 1531.63, 1532.11, 1529.64, 1512.21, 1436.97, 1438.14, 1415.7, 1371.7, 1341.14, 1390.87, 1410.15, 1388.09, 1358.91, 1306.22, 1254.76, 1281.15, 1260.96, 1193.87, 1219.76, 1152.27, 1130.86, 1106.5, 1157.97, 1143.99, 1071.32, 1135.0, 1148.9, 1169.97, 1150.67, 1151.63, 1175.31, 1129.69, 1126.86, 1123.54, 1194.66, 1225.0, 1219.07, 1225.57, 1220.51, 1282.07, 1280.46, 1279.0, 1294.43, 1281.6, 1254.27, 1285.61, 1293.31, 1280.4, 1296.15, 1288.05, 1359.99, 1352.82, 1352.07, 1327.66, 1373.94, 1371.12, 1377.6, 1398.76, 1416.53, 1415.0, 1385.48, 1357.42, 1374.48, 1392.32, 1392.0, 1410.42, 1415.49, 1412.76, 1441.0, 1421.74, 1440.84, 1432.57, 1437.96, 1439.61, 1446.55, 1438.96, 1445.05, 1447.99, 1468.0, 1474.26, 1454.47, 1437.0, 1424.8, 1455.02, 1460.0, 1451.41, 1447.8, 1452.75, 1475.94, 1475.42, 1442.9, 1433.45, 1395.6, 1418.65, 1443.0, 1482.95, 1506.59, 1516.8, 1505.88, 1522.72, 1543.83, 1577.13, 1522.95, 1535.33, 1518.69, 1523.44, 1570.29, 1586.99, 1570.0, 1571.87, 1517.64, 1540.97, 1526.48, 1531.25, 1537.87, 1508.95, 1490.47, 1485.56, 1482.41, 1502.39, 1516.84, 1504.07, 1510.0, 1512.39, 1537.25, 1521.9, 1525.61, 1562.47, 1573.68, 1585.87, 1597.72, 1614.17, 1611.62, 1659.22, 1655.0, 1647.17, 1647.96, 1665.73, 1733.18, 1709.71, 1645.11, 1563.86, 1569.0, 1584.08, 1575.2, 1564.0, 1559.57, 1562.0, 1508.3, 1503.0, 1448.36, 1469.52, 1460.96, 1443.71, 1450.0, 1476.8, 1476.66, 1489.75, 1499.04, 1483.2, 1488.21, 1486.76, 1468.96, 1490.0, 1516.52, 1593.86, 1590.0, 1587.68, 1575.1, 1581.13, 1588.15, 1577.5, 1618.73, 1621.99, 1642.36, 1638.24, 1606.84, 1561.35, 1593.71, 1687.0, 1660.77, 1661.7, 1771.36, 1793.64, 1772.43, 1818.06, 1763.0, 1764.22, 1768.27, 1781.04, 1799.07, 1785.0, 1773.47, 1769.59, 1774.0, 1753.9, 1771.6, 1778.54, 1804.0, 1788.06, 1824.83, 1835.65, 1847.2, 1833.16, 1832.37, 1821.9, 1834.27, 1781.31, 1784.45, 1797.39, 1771.42, 1773.0, 1771.78, 1755.11, 1740.85, 1737.41, 1747.99, 1746.0, 1790.73, 1792.44, 1765.09], \"low\": [1341.55, 1345.54, 1350.0, 1390.38, 1390.84, 1410.27, 1418.35, 1426.02, 1428.37, 1430.21, 1440.92, 1458.22, 1471.2, 1484.93, 1482.1, 1465.25, 1421.2, 1432.47, 1446.74, 1436.4, 1428.53, 1458.99, 1426.3, 1430.56, 1449.57, 1466.35, 1474.32, 1505.64, 1508.11, 1504.6, 1507.34, 1512.59, 1521.4, 1506.82, 1480.44, 1411.39, 1382.4, 1379.0, 1317.17, 1271.0, 1326.81, 1332.0, 1343.11, 1305.1, 1261.05, 1200.0, 1218.77, 1196.07, 1113.3, 1117.14, 1074.44, 1056.01, 1037.28, 1060.11, 1065.49, 1013.54, 1090.62, 1086.01, 1093.53, 1105.91, 1096.48, 1138.14, 1097.45, 1096.4, 1079.81, 1130.94, 1182.23, 1188.16, 1196.73, 1187.6, 1236.93, 1240.4, 1242.62, 1271.23, 1261.37, 1209.71, 1242.0, 1265.67, 1249.45, 1269.0, 1232.2, 1325.34, 1322.49, 1311.0, 1299.0, 1337.46, 1347.29, 1355.27, 1375.48, 1377.15, 1374.77, 1328.4, 1323.91, 1339.0, 1354.25, 1373.48, 1387.25, 1393.45, 1391.83, 1412.13, 1391.29, 1396.0, 1413.35, 1418.0, 1418.83, 1429.78, 1404.73, 1406.0, 1422.34, 1443.21, 1456.27, 1402.0, 1386.02, 1387.92, 1425.9, 1431.38, 1427.01, 1421.35, 1423.21, 1445.24, 1429.75, 1420.0, 1351.99, 1347.01, 1383.96, 1409.82, 1446.42, 1472.86, 1483.55, 1485.63, 1488.08, 1496.54, 1505.24, 1483.5, 1498.0, 1486.31, 1498.42, 1503.6, 1554.28, 1546.1, 1507.39, 1488.4, 1515.21, 1497.66, 1501.33, 1492.22, 1454.03, 1465.64, 1458.65, 1463.46, 1466.0, 1481.64, 1473.08, 1478.0, 1485.25, 1508.01, 1502.88, 1507.97, 1523.71, 1543.95, 1538.2, 1568.01, 1580.57, 1582.07, 1603.6, 1625.75, 1630.75, 1630.31, 1632.22, 1666.33, 1615.06, 1547.61, 1528.01, 1536.05, 1525.81, 1497.36, 1515.74, 1531.83, 1519.82, 1470.0, 1437.13, 1406.55, 1434.53, 1407.7, 1409.85, 1413.34, 1449.3, 1458.81, 1459.88, 1479.21, 1450.92, 1464.27, 1448.59, 1436.0, 1465.09, 1489.45, 1532.57, 1563.2, 1550.53, 1545.03, 1563.0, 1528.0, 1525.67, 1571.63, 1585.0, 1620.51, 1576.5, 1582.78, 1514.62, 1522.24, 1604.46, 1616.03, 1616.62, 1706.03, 1750.51, 1740.35, 1760.02, 1717.3, 1747.36, 1745.6, 1744.55, 1767.69, 1767.0, 1746.14, 1737.01, 1741.86, 1717.72, 1727.69, 1756.54, 1772.44, 1755.0, 1769.37, 1789.47, 1822.65, 1816.99, 1805.78, 1796.2, 1767.81, 1740.32, 1760.0, 1757.21, 1749.95, 1756.08, 1738.66, 1720.22, 1699.0, 1712.57, 1725.04, 1729.11, 1746.33, 1756.09, 1725.6], \"open\": [1341.55, 1347.86, 1350.0, 1397.94, 1392.08, 1420.57, 1427.56, 1436.13, 1439.01, 1430.21, 1447.44, 1462.91, 1479.12, 1491.0, 1487.64, 1493.59, 1431.0, 1443.0, 1458.8, 1439.96, 1468.9, 1462.0, 1457.07, 1462.42, 1450.33, 1467.3, 1474.32, 1511.81, 1514.48, 1512.69, 1515.6, 1515.0, 1525.07, 1522.0, 1508.03, 1426.11, 1433.0, 1396.14, 1362.06, 1277.5, 1351.61, 1399.42, 1359.23, 1350.2, 1277.06, 1205.3, 1260.0, 1249.7, 1126.0, 1179.0, 1096.0, 1093.11, 1056.51, 1093.05, 1135.72, 1061.32, 1103.77, 1126.47, 1111.8, 1125.67, 1125.04, 1147.3, 1122.0, 1098.26, 1119.02, 1138.0, 1221.0, 1206.5, 1224.08, 1209.18, 1245.09, 1245.61, 1274.1, 1284.85, 1271.0, 1247.0, 1245.54, 1271.55, 1261.17, 1296.0, 1287.93, 1341.46, 1324.88, 1328.5, 1308.23, 1337.92, 1361.69, 1365.94, 1383.13, 1378.28, 1407.12, 1377.05, 1335.02, 1350.0, 1361.75, 1387.0, 1389.58, 1408.0, 1396.71, 1437.27, 1417.25, 1396.86, 1416.94, 1418.39, 1430.55, 1438.3, 1430.4, 1413.17, 1422.34, 1445.36, 1459.54, 1442.48, 1428.49, 1390.8, 1445.22, 1447.16, 1449.16, 1444.0, 1429.0, 1455.64, 1461.51, 1429.9, 1431.39, 1358.18, 1390.44, 1411.1, 1446.94, 1480.06, 1490.0, 1494.32, 1506.45, 1506.15, 1550.0, 1490.31, 1523.13, 1500.0, 1521.62, 1515.26, 1586.99, 1560.5, 1566.97, 1498.93, 1515.6, 1525.18, 1506.32, 1497.0, 1505.01, 1486.64, 1476.57, 1469.3, 1471.75, 1500.0, 1487.18, 1492.44, 1485.58, 1510.34, 1515.66, 1514.67, 1526.18, 1553.31, 1543.45, 1577.03, 1593.98, 1582.07, 1608.0, 1653.68, 1633.49, 1647.89, 1636.63, 1673.78, 1709.71, 1624.26, 1533.51, 1557.53, 1560.64, 1536.0, 1539.01, 1536.0, 1555.54, 1496.0, 1498.01, 1440.06, 1450.09, 1458.78, 1411.03, 1432.63, 1474.21, 1470.39, 1466.8, 1484.27, 1462.03, 1466.21, 1475.58, 1464.29, 1465.09, 1494.7, 1543.0, 1583.73, 1578.59, 1547.15, 1565.85, 1580.46, 1527.05, 1573.33, 1593.05, 1626.07, 1625.01, 1595.67, 1559.74, 1522.36, 1672.11, 1628.16, 1631.78, 1710.28, 1781.0, 1753.95, 1790.9, 1731.09, 1750.0, 1747.63, 1757.63, 1771.7, 1776.94, 1765.23, 1738.38, 1765.21, 1749.6, 1730.5, 1772.89, 1773.09, 1781.18, 1774.37, 1798.1, 1824.01, 1824.52, 1819.0, 1810.1, 1812.01, 1769.8, 1763.06, 1775.0, 1764.42, 1772.88, 1768.51, 1754.18, 1713.51, 1734.43, 1728.11, 1735.0, 1751.64, 1787.79, 1762.01], \"type\": \"candlestick\", \"x\": [\"2020-01-02T00:00:00\", \"2020-01-03T00:00:00\", \"2020-01-06T00:00:00\", \"2020-01-07T00:00:00\", \"2020-01-08T00:00:00\", \"2020-01-09T00:00:00\", \"2020-01-10T00:00:00\", \"2020-01-13T00:00:00\", \"2020-01-14T00:00:00\", \"2020-01-15T00:00:00\", \"2020-01-16T00:00:00\", \"2020-01-17T00:00:00\", \"2020-01-21T00:00:00\", \"2020-01-22T00:00:00\", \"2020-01-23T00:00:00\", \"2020-01-24T00:00:00\", \"2020-01-27T00:00:00\", \"2020-01-28T00:00:00\", \"2020-01-29T00:00:00\", \"2020-01-30T00:00:00\", \"2020-01-31T00:00:00\", \"2020-02-03T00:00:00\", \"2020-02-04T00:00:00\", \"2020-02-05T00:00:00\", \"2020-02-06T00:00:00\", \"2020-02-07T00:00:00\", \"2020-02-10T00:00:00\", \"2020-02-11T00:00:00\", \"2020-02-12T00:00:00\", \"2020-02-13T00:00:00\", \"2020-02-14T00:00:00\", \"2020-02-18T00:00:00\", \"2020-02-19T00:00:00\", \"2020-02-20T00:00:00\", \"2020-02-21T00:00:00\", \"2020-02-24T00:00:00\", \"2020-02-25T00:00:00\", \"2020-02-26T00:00:00\", \"2020-02-27T00:00:00\", \"2020-02-28T00:00:00\", \"2020-03-02T00:00:00\", \"2020-03-03T00:00:00\", \"2020-03-04T00:00:00\", \"2020-03-05T00:00:00\", \"2020-03-06T00:00:00\", \"2020-03-09T00:00:00\", \"2020-03-10T00:00:00\", \"2020-03-11T00:00:00\", \"2020-03-12T00:00:00\", \"2020-03-13T00:00:00\", \"2020-03-16T00:00:00\", \"2020-03-17T00:00:00\", \"2020-03-18T00:00:00\", \"2020-03-19T00:00:00\", \"2020-03-20T00:00:00\", \"2020-03-23T00:00:00\", \"2020-03-24T00:00:00\", \"2020-03-25T00:00:00\", \"2020-03-26T00:00:00\", \"2020-03-27T00:00:00\", \"2020-03-30T00:00:00\", \"2020-03-31T00:00:00\", \"2020-04-01T00:00:00\", \"2020-04-02T00:00:00\", \"2020-04-03T00:00:00\", \"2020-04-06T00:00:00\", \"2020-04-07T00:00:00\", \"2020-04-08T00:00:00\", \"2020-04-09T00:00:00\", \"2020-04-13T00:00:00\", \"2020-04-14T00:00:00\", \"2020-04-15T00:00:00\", \"2020-04-16T00:00:00\", \"2020-04-17T00:00:00\", \"2020-04-20T00:00:00\", \"2020-04-21T00:00:00\", \"2020-04-22T00:00:00\", \"2020-04-23T00:00:00\", \"2020-04-24T00:00:00\", \"2020-04-27T00:00:00\", \"2020-04-28T00:00:00\", \"2020-04-29T00:00:00\", \"2020-04-30T00:00:00\", \"2020-05-01T00:00:00\", \"2020-05-04T00:00:00\", \"2020-05-05T00:00:00\", \"2020-05-06T00:00:00\", \"2020-05-07T00:00:00\", \"2020-05-08T00:00:00\", \"2020-05-11T00:00:00\", \"2020-05-12T00:00:00\", \"2020-05-13T00:00:00\", \"2020-05-14T00:00:00\", \"2020-05-15T00:00:00\", \"2020-05-18T00:00:00\", \"2020-05-19T00:00:00\", \"2020-05-20T00:00:00\", \"2020-05-21T00:00:00\", \"2020-05-22T00:00:00\", \"2020-05-26T00:00:00\", \"2020-05-27T00:00:00\", \"2020-05-28T00:00:00\", \"2020-05-29T00:00:00\", \"2020-06-01T00:00:00\", \"2020-06-02T00:00:00\", \"2020-06-03T00:00:00\", \"2020-06-04T00:00:00\", \"2020-06-05T00:00:00\", \"2020-06-08T00:00:00\", \"2020-06-09T00:00:00\", \"2020-06-10T00:00:00\", \"2020-06-11T00:00:00\", \"2020-06-12T00:00:00\", \"2020-06-15T00:00:00\", \"2020-06-16T00:00:00\", \"2020-06-17T00:00:00\", \"2020-06-18T00:00:00\", \"2020-06-19T00:00:00\", \"2020-06-22T00:00:00\", \"2020-06-23T00:00:00\", \"2020-06-24T00:00:00\", \"2020-06-25T00:00:00\", \"2020-06-26T00:00:00\", \"2020-06-29T00:00:00\", \"2020-06-30T00:00:00\", \"2020-07-01T00:00:00\", \"2020-07-02T00:00:00\", \"2020-07-06T00:00:00\", \"2020-07-07T00:00:00\", \"2020-07-08T00:00:00\", \"2020-07-09T00:00:00\", \"2020-07-10T00:00:00\", \"2020-07-13T00:00:00\", \"2020-07-14T00:00:00\", \"2020-07-15T00:00:00\", \"2020-07-16T00:00:00\", \"2020-07-17T00:00:00\", \"2020-07-20T00:00:00\", \"2020-07-21T00:00:00\", \"2020-07-22T00:00:00\", \"2020-07-23T00:00:00\", \"2020-07-24T00:00:00\", \"2020-07-27T00:00:00\", \"2020-07-28T00:00:00\", \"2020-07-29T00:00:00\", \"2020-07-30T00:00:00\", \"2020-07-31T00:00:00\", \"2020-08-03T00:00:00\", \"2020-08-04T00:00:00\", \"2020-08-05T00:00:00\", \"2020-08-06T00:00:00\", \"2020-08-07T00:00:00\", \"2020-08-10T00:00:00\", \"2020-08-11T00:00:00\", \"2020-08-12T00:00:00\", \"2020-08-13T00:00:00\", \"2020-08-14T00:00:00\", \"2020-08-17T00:00:00\", \"2020-08-18T00:00:00\", \"2020-08-19T00:00:00\", \"2020-08-20T00:00:00\", \"2020-08-21T00:00:00\", \"2020-08-24T00:00:00\", \"2020-08-25T00:00:00\", \"2020-08-26T00:00:00\", \"2020-08-27T00:00:00\", \"2020-08-28T00:00:00\", \"2020-08-31T00:00:00\", \"2020-09-01T00:00:00\", \"2020-09-02T00:00:00\", \"2020-09-03T00:00:00\", \"2020-09-04T00:00:00\", \"2020-09-08T00:00:00\", \"2020-09-09T00:00:00\", \"2020-09-10T00:00:00\", \"2020-09-11T00:00:00\", \"2020-09-14T00:00:00\", \"2020-09-15T00:00:00\", \"2020-09-16T00:00:00\", \"2020-09-17T00:00:00\", \"2020-09-18T00:00:00\", \"2020-09-21T00:00:00\", \"2020-09-22T00:00:00\", \"2020-09-23T00:00:00\", \"2020-09-24T00:00:00\", \"2020-09-25T00:00:00\", \"2020-09-28T00:00:00\", \"2020-09-29T00:00:00\", \"2020-09-30T00:00:00\", \"2020-10-01T00:00:00\", \"2020-10-02T00:00:00\", \"2020-10-05T00:00:00\", \"2020-10-06T00:00:00\", \"2020-10-07T00:00:00\", \"2020-10-08T00:00:00\", \"2020-10-09T00:00:00\", \"2020-10-12T00:00:00\", \"2020-10-13T00:00:00\", \"2020-10-14T00:00:00\", \"2020-10-15T00:00:00\", \"2020-10-16T00:00:00\", \"2020-10-19T00:00:00\", \"2020-10-20T00:00:00\", \"2020-10-21T00:00:00\", \"2020-10-22T00:00:00\", \"2020-10-23T00:00:00\", \"2020-10-26T00:00:00\", \"2020-10-27T00:00:00\", \"2020-10-28T00:00:00\", \"2020-10-29T00:00:00\", \"2020-10-30T00:00:00\", \"2020-11-02T00:00:00\", \"2020-11-03T00:00:00\", \"2020-11-04T00:00:00\", \"2020-11-05T00:00:00\", \"2020-11-06T00:00:00\", \"2020-11-09T00:00:00\", \"2020-11-10T00:00:00\", \"2020-11-11T00:00:00\", \"2020-11-12T00:00:00\", \"2020-11-13T00:00:00\", \"2020-11-16T00:00:00\", \"2020-11-17T00:00:00\", \"2020-11-18T00:00:00\", \"2020-11-19T00:00:00\", \"2020-11-20T00:00:00\", \"2020-11-23T00:00:00\", \"2020-11-24T00:00:00\", \"2020-11-25T00:00:00\", \"2020-11-27T00:00:00\", \"2020-11-30T00:00:00\", \"2020-12-01T00:00:00\", \"2020-12-02T00:00:00\", \"2020-12-03T00:00:00\", \"2020-12-04T00:00:00\", \"2020-12-07T00:00:00\", \"2020-12-08T00:00:00\", \"2020-12-09T00:00:00\", \"2020-12-10T00:00:00\", \"2020-12-11T00:00:00\", \"2020-12-14T00:00:00\", \"2020-12-15T00:00:00\", \"2020-12-16T00:00:00\", \"2020-12-17T00:00:00\", \"2020-12-18T00:00:00\", \"2020-12-21T00:00:00\", \"2020-12-22T00:00:00\", \"2020-12-23T00:00:00\", \"2020-12-24T00:00:00\", \"2020-12-28T00:00:00\", \"2020-12-29T00:00:00\", \"2020-12-30T00:00:00\"]}],                        {\"template\": {\"data\": {\"bar\": [{\"error_x\": {\"color\": \"#2a3f5f\"}, \"error_y\": {\"color\": \"#2a3f5f\"}, \"marker\": {\"line\": {\"color\": \"#E5ECF6\", \"width\": 0.5}}, \"type\": \"bar\"}], \"barpolar\": [{\"marker\": {\"line\": {\"color\": \"#E5ECF6\", \"width\": 0.5}}, \"type\": \"barpolar\"}], \"carpet\": [{\"aaxis\": {\"endlinecolor\": \"#2a3f5f\", \"gridcolor\": \"white\", \"linecolor\": \"white\", \"minorgridcolor\": \"white\", \"startlinecolor\": \"#2a3f5f\"}, \"baxis\": {\"endlinecolor\": \"#2a3f5f\", \"gridcolor\": \"white\", \"linecolor\": \"white\", \"minorgridcolor\": \"white\", \"startlinecolor\": \"#2a3f5f\"}, \"type\": \"carpet\"}], \"choropleth\": [{\"colorbar\": {\"outlinewidth\": 0, \"ticks\": \"\"}, \"type\": \"choropleth\"}], \"contour\": [{\"colorbar\": {\"outlinewidth\": 0, \"ticks\": \"\"}, \"colorscale\": [[0.0, \"#0d0887\"], [0.1111111111111111, \"#46039f\"], [0.2222222222222222, \"#7201a8\"], [0.3333333333333333, \"#9c179e\"], [0.4444444444444444, \"#bd3786\"], [0.5555555555555556, \"#d8576b\"], [0.6666666666666666, \"#ed7953\"], [0.7777777777777778, \"#fb9f3a\"], [0.8888888888888888, \"#fdca26\"], [1.0, \"#f0f921\"]], \"type\": \"contour\"}], \"contourcarpet\": [{\"colorbar\": {\"outlinewidth\": 0, \"ticks\": \"\"}, \"type\": \"contourcarpet\"}], \"heatmap\": [{\"colorbar\": {\"outlinewidth\": 0, \"ticks\": \"\"}, \"colorscale\": [[0.0, \"#0d0887\"], [0.1111111111111111, \"#46039f\"], [0.2222222222222222, \"#7201a8\"], [0.3333333333333333, \"#9c179e\"], [0.4444444444444444, \"#bd3786\"], [0.5555555555555556, \"#d8576b\"], [0.6666666666666666, \"#ed7953\"], [0.7777777777777778, \"#fb9f3a\"], [0.8888888888888888, \"#fdca26\"], [1.0, \"#f0f921\"]], \"type\": \"heatmap\"}], \"heatmapgl\": [{\"colorbar\": {\"outlinewidth\": 0, \"ticks\": \"\"}, \"colorscale\": [[0.0, \"#0d0887\"], [0.1111111111111111, \"#46039f\"], [0.2222222222222222, \"#7201a8\"], [0.3333333333333333, \"#9c179e\"], [0.4444444444444444, \"#bd3786\"], [0.5555555555555556, \"#d8576b\"], [0.6666666666666666, \"#ed7953\"], [0.7777777777777778, \"#fb9f3a\"], [0.8888888888888888, \"#fdca26\"], [1.0, \"#f0f921\"]], \"type\": \"heatmapgl\"}], \"histogram\": [{\"marker\": {\"colorbar\": {\"outlinewidth\": 0, \"ticks\": \"\"}}, \"type\": \"histogram\"}], \"histogram2d\": [{\"colorbar\": {\"outlinewidth\": 0, \"ticks\": \"\"}, \"colorscale\": [[0.0, \"#0d0887\"], [0.1111111111111111, \"#46039f\"], [0.2222222222222222, \"#7201a8\"], [0.3333333333333333, \"#9c179e\"], [0.4444444444444444, \"#bd3786\"], [0.5555555555555556, \"#d8576b\"], [0.6666666666666666, \"#ed7953\"], [0.7777777777777778, \"#fb9f3a\"], [0.8888888888888888, \"#fdca26\"], [1.0, \"#f0f921\"]], \"type\": \"histogram2d\"}], \"histogram2dcontour\": [{\"colorbar\": {\"outlinewidth\": 0, \"ticks\": \"\"}, \"colorscale\": [[0.0, \"#0d0887\"], [0.1111111111111111, \"#46039f\"], [0.2222222222222222, \"#7201a8\"], [0.3333333333333333, \"#9c179e\"], [0.4444444444444444, \"#bd3786\"], [0.5555555555555556, \"#d8576b\"], [0.6666666666666666, \"#ed7953\"], [0.7777777777777778, \"#fb9f3a\"], [0.8888888888888888, \"#fdca26\"], [1.0, \"#f0f921\"]], \"type\": \"histogram2dcontour\"}], \"mesh3d\": [{\"colorbar\": {\"outlinewidth\": 0, \"ticks\": \"\"}, \"type\": \"mesh3d\"}], \"parcoords\": [{\"line\": {\"colorbar\": {\"outlinewidth\": 0, \"ticks\": \"\"}}, \"type\": \"parcoords\"}], \"pie\": [{\"automargin\": true, \"type\": \"pie\"}], \"scatter\": [{\"marker\": {\"colorbar\": {\"outlinewidth\": 0, \"ticks\": \"\"}}, \"type\": \"scatter\"}], \"scatter3d\": [{\"line\": {\"colorbar\": {\"outlinewidth\": 0, \"ticks\": \"\"}}, \"marker\": {\"colorbar\": {\"outlinewidth\": 0, \"ticks\": \"\"}}, \"type\": \"scatter3d\"}], \"scattercarpet\": [{\"marker\": {\"colorbar\": {\"outlinewidth\": 0, \"ticks\": \"\"}}, \"type\": \"scattercarpet\"}], \"scattergeo\": [{\"marker\": {\"colorbar\": {\"outlinewidth\": 0, \"ticks\": \"\"}}, \"type\": \"scattergeo\"}], \"scattergl\": [{\"marker\": {\"colorbar\": {\"outlinewidth\": 0, \"ticks\": \"\"}}, \"type\": \"scattergl\"}], \"scattermapbox\": [{\"marker\": {\"colorbar\": {\"outlinewidth\": 0, \"ticks\": \"\"}}, \"type\": \"scattermapbox\"}], \"scatterpolar\": [{\"marker\": {\"colorbar\": {\"outlinewidth\": 0, \"ticks\": \"\"}}, \"type\": \"scatterpolar\"}], \"scatterpolargl\": [{\"marker\": {\"colorbar\": {\"outlinewidth\": 0, \"ticks\": \"\"}}, \"type\": \"scatterpolargl\"}], \"scatterternary\": [{\"marker\": {\"colorbar\": {\"outlinewidth\": 0, \"ticks\": \"\"}}, \"type\": \"scatterternary\"}], \"surface\": [{\"colorbar\": {\"outlinewidth\": 0, \"ticks\": \"\"}, \"colorscale\": [[0.0, \"#0d0887\"], [0.1111111111111111, \"#46039f\"], [0.2222222222222222, \"#7201a8\"], [0.3333333333333333, \"#9c179e\"], [0.4444444444444444, \"#bd3786\"], [0.5555555555555556, \"#d8576b\"], [0.6666666666666666, \"#ed7953\"], [0.7777777777777778, \"#fb9f3a\"], [0.8888888888888888, \"#fdca26\"], [1.0, \"#f0f921\"]], \"type\": \"surface\"}], \"table\": [{\"cells\": {\"fill\": {\"color\": \"#EBF0F8\"}, \"line\": {\"color\": \"white\"}}, \"header\": {\"fill\": {\"color\": \"#C8D4E3\"}, \"line\": {\"color\": \"white\"}}, \"type\": \"table\"}]}, \"layout\": {\"annotationdefaults\": {\"arrowcolor\": \"#2a3f5f\", \"arrowhead\": 0, \"arrowwidth\": 1}, \"autotypenumbers\": \"strict\", \"coloraxis\": {\"colorbar\": {\"outlinewidth\": 0, \"ticks\": \"\"}}, \"colorscale\": {\"diverging\": [[0, \"#8e0152\"], [0.1, \"#c51b7d\"], [0.2, \"#de77ae\"], [0.3, \"#f1b6da\"], [0.4, \"#fde0ef\"], [0.5, \"#f7f7f7\"], [0.6, \"#e6f5d0\"], [0.7, \"#b8e186\"], [0.8, \"#7fbc41\"], [0.9, \"#4d9221\"], [1, \"#276419\"]], \"sequential\": [[0.0, \"#0d0887\"], [0.1111111111111111, \"#46039f\"], [0.2222222222222222, \"#7201a8\"], [0.3333333333333333, \"#9c179e\"], [0.4444444444444444, \"#bd3786\"], [0.5555555555555556, \"#d8576b\"], [0.6666666666666666, \"#ed7953\"], [0.7777777777777778, \"#fb9f3a\"], [0.8888888888888888, \"#fdca26\"], [1.0, \"#f0f921\"]], \"sequentialminus\": [[0.0, \"#0d0887\"], [0.1111111111111111, \"#46039f\"], [0.2222222222222222, \"#7201a8\"], [0.3333333333333333, \"#9c179e\"], [0.4444444444444444, \"#bd3786\"], [0.5555555555555556, \"#d8576b\"], [0.6666666666666666, \"#ed7953\"], [0.7777777777777778, \"#fb9f3a\"], [0.8888888888888888, \"#fdca26\"], [1.0, \"#f0f921\"]]}, \"colorway\": [\"#636efa\", \"#EF553B\", \"#00cc96\", \"#ab63fa\", \"#FFA15A\", \"#19d3f3\", \"#FF6692\", \"#B6E880\", \"#FF97FF\", \"#FECB52\"], \"font\": {\"color\": \"#2a3f5f\"}, \"geo\": {\"bgcolor\": \"white\", \"lakecolor\": \"white\", \"landcolor\": \"#E5ECF6\", \"showlakes\": true, \"showland\": true, \"subunitcolor\": \"white\"}, \"hoverlabel\": {\"align\": \"left\"}, \"hovermode\": \"closest\", \"mapbox\": {\"style\": \"light\"}, \"paper_bgcolor\": \"white\", \"plot_bgcolor\": \"#E5ECF6\", \"polar\": {\"angularaxis\": {\"gridcolor\": \"white\", \"linecolor\": \"white\", \"ticks\": \"\"}, \"bgcolor\": \"#E5ECF6\", \"radialaxis\": {\"gridcolor\": \"white\", \"linecolor\": \"white\", \"ticks\": \"\"}}, \"scene\": {\"xaxis\": {\"backgroundcolor\": \"#E5ECF6\", \"gridcolor\": \"white\", \"gridwidth\": 2, \"linecolor\": \"white\", \"showbackground\": true, \"ticks\": \"\", \"zerolinecolor\": \"white\"}, \"yaxis\": {\"backgroundcolor\": \"#E5ECF6\", \"gridcolor\": \"white\", \"gridwidth\": 2, \"linecolor\": \"white\", \"showbackground\": true, \"ticks\": \"\", \"zerolinecolor\": \"white\"}, \"zaxis\": {\"backgroundcolor\": \"#E5ECF6\", \"gridcolor\": \"white\", \"gridwidth\": 2, \"linecolor\": \"white\", \"showbackground\": true, \"ticks\": \"\", \"zerolinecolor\": \"white\"}}, \"shapedefaults\": {\"line\": {\"color\": \"#2a3f5f\"}}, \"ternary\": {\"aaxis\": {\"gridcolor\": \"white\", \"linecolor\": \"white\", \"ticks\": \"\"}, \"baxis\": {\"gridcolor\": \"white\", \"linecolor\": \"white\", \"ticks\": \"\"}, \"bgcolor\": \"#E5ECF6\", \"caxis\": {\"gridcolor\": \"white\", \"linecolor\": \"white\", \"ticks\": \"\"}}, \"title\": {\"x\": 0.05}, \"xaxis\": {\"automargin\": true, \"gridcolor\": \"white\", \"linecolor\": \"white\", \"ticks\": \"\", \"title\": {\"standoff\": 15}, \"zerolinecolor\": \"white\", \"zerolinewidth\": 2}, \"yaxis\": {\"automargin\": true, \"gridcolor\": \"white\", \"linecolor\": \"white\", \"ticks\": \"\", \"title\": {\"standoff\": 15}, \"zerolinecolor\": \"white\", \"zerolinewidth\": 2}}}},                        {\"responsive\": true}                    ).then(function(){\n",
       "                            \n",
       "var gd = document.getElementById('d2d23680-6de5-475a-87ed-3739a34825e8');\n",
       "var x = new MutationObserver(function (mutations, observer) {{\n",
       "        var display = window.getComputedStyle(gd).display;\n",
       "        if (!display || display === 'none') {{\n",
       "            console.log([gd, 'removed!']);\n",
       "            Plotly.purge(gd);\n",
       "            observer.disconnect();\n",
       "        }}\n",
       "}});\n",
       "\n",
       "// Listen for the removal of the full notebook cells\n",
       "var notebookContainer = gd.closest('#notebook-container');\n",
       "if (notebookContainer) {{\n",
       "    x.observe(notebookContainer, {childList: true});\n",
       "}}\n",
       "\n",
       "// Listen for the clearing of the current output cell\n",
       "var outputEl = gd.closest('.output');\n",
       "if (outputEl) {{\n",
       "    x.observe(outputEl, {childList: true});\n",
       "}}\n",
       "\n",
       "                        })                };                });            </script>        </div>"
      ]
     },
     "metadata": {},
     "output_type": "display_data"
    }
   ],
   "source": [
    "fig = go.Figure(data=[go.Candlestick(x=goog.index,\n",
    "                                     open=goog['Open'],\n",
    "                                     high=goog['High'],\n",
    "                                     low=goog['Low'],\n",
    "                                     close=goog['Close'])])\n",
    "fig.show()"
   ]
  },
  {
   "cell_type": "markdown",
   "metadata": {},
   "source": [
    "<p style=\"height:240px;line-height:100px;font-size:64px;background-color:cyan;color:white;padding:20px auto;text-align:center;border:2px outset gold;border-radius:8px;\">\n",
    "    Created by:<br/> <code>Tarek Ghajary</code>\n",
    "</p>"
   ]
  },
  {
   "cell_type": "code",
   "execution_count": null,
   "metadata": {},
   "outputs": [],
   "source": []
  }
 ],
 "metadata": {
  "kernelspec": {
   "display_name": "Python 3",
   "language": "python",
   "name": "python3"
  },
  "language_info": {
   "codemirror_mode": {
    "name": "ipython",
    "version": 3
   },
   "file_extension": ".py",
   "mimetype": "text/x-python",
   "name": "python",
   "nbconvert_exporter": "python",
   "pygments_lexer": "ipython3",
   "version": "3.7.6"
  }
 },
 "nbformat": 4,
 "nbformat_minor": 4
}
