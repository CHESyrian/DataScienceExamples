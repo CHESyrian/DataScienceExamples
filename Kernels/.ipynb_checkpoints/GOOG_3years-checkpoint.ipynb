{
 "cells": [
  {
   "cell_type": "markdown",
   "metadata": {},
   "source": [
    "<p style=\"height:100px;line-height:100px;background-color:lime;padding-left:12px;font-size:46px;font-family:serif;font-weight:bold;color:white;\">\n",
    "    Stock Price (GOOG) in Three Years\n",
    "</p>"
   ]
  },
  {
   "cell_type": "markdown",
   "metadata": {},
   "source": [
    "# Importing Libraries"
   ]
  },
  {
   "cell_type": "code",
   "execution_count": 32,
   "metadata": {},
   "outputs": [],
   "source": [
    "#to ignore warnings\n",
    "import warnings\n",
    "warnings.filterwarnings('ignore')"
   ]
  },
  {
   "cell_type": "code",
   "execution_count": 33,
   "metadata": {},
   "outputs": [],
   "source": [
    "import numpy as np\n",
    "import pandas as pd\n",
    "import plotly.graph_objects as go\n",
    "import yfinance as yf"
   ]
  },
  {
   "cell_type": "markdown",
   "metadata": {},
   "source": [
    "# Reading and Exploring the Data"
   ]
  },
  {
   "cell_type": "code",
   "execution_count": 34,
   "metadata": {},
   "outputs": [],
   "source": [
    "goog_ticker = yf.Ticker('goog')"
   ]
  },
  {
   "cell_type": "code",
   "execution_count": 46,
   "metadata": {},
   "outputs": [],
   "source": [
    "goog = goog_ticker.history(start='2020-01-02', end='2020-12-31', interval='1d')"
   ]
  },
  {
   "cell_type": "code",
   "execution_count": 47,
   "metadata": {},
   "outputs": [
    {
     "data": {
      "text/html": [
       "<div>\n",
       "<style scoped>\n",
       "    .dataframe tbody tr th:only-of-type {\n",
       "        vertical-align: middle;\n",
       "    }\n",
       "\n",
       "    .dataframe tbody tr th {\n",
       "        vertical-align: top;\n",
       "    }\n",
       "\n",
       "    .dataframe thead th {\n",
       "        text-align: right;\n",
       "    }\n",
       "</style>\n",
       "<table border=\"1\" class=\"dataframe\">\n",
       "  <thead>\n",
       "    <tr style=\"text-align: right;\">\n",
       "      <th></th>\n",
       "      <th>Open</th>\n",
       "      <th>High</th>\n",
       "      <th>Low</th>\n",
       "      <th>Close</th>\n",
       "      <th>Volume</th>\n",
       "      <th>Dividends</th>\n",
       "      <th>Stock Splits</th>\n",
       "    </tr>\n",
       "    <tr>\n",
       "      <th>Date</th>\n",
       "      <th></th>\n",
       "      <th></th>\n",
       "      <th></th>\n",
       "      <th></th>\n",
       "      <th></th>\n",
       "      <th></th>\n",
       "      <th></th>\n",
       "    </tr>\n",
       "  </thead>\n",
       "  <tbody>\n",
       "    <tr>\n",
       "      <th>2020-01-02</th>\n",
       "      <td>1341.55</td>\n",
       "      <td>1368.14</td>\n",
       "      <td>1341.55</td>\n",
       "      <td>1367.37</td>\n",
       "      <td>1406600</td>\n",
       "      <td>0</td>\n",
       "      <td>0</td>\n",
       "    </tr>\n",
       "    <tr>\n",
       "      <th>2020-01-03</th>\n",
       "      <td>1347.86</td>\n",
       "      <td>1372.50</td>\n",
       "      <td>1345.54</td>\n",
       "      <td>1360.66</td>\n",
       "      <td>1186400</td>\n",
       "      <td>0</td>\n",
       "      <td>0</td>\n",
       "    </tr>\n",
       "    <tr>\n",
       "      <th>2020-01-06</th>\n",
       "      <td>1350.00</td>\n",
       "      <td>1396.50</td>\n",
       "      <td>1350.00</td>\n",
       "      <td>1394.21</td>\n",
       "      <td>1732300</td>\n",
       "      <td>0</td>\n",
       "      <td>0</td>\n",
       "    </tr>\n",
       "    <tr>\n",
       "      <th>2020-01-07</th>\n",
       "      <td>1397.94</td>\n",
       "      <td>1402.99</td>\n",
       "      <td>1390.38</td>\n",
       "      <td>1393.34</td>\n",
       "      <td>1502700</td>\n",
       "      <td>0</td>\n",
       "      <td>0</td>\n",
       "    </tr>\n",
       "    <tr>\n",
       "      <th>2020-01-08</th>\n",
       "      <td>1392.08</td>\n",
       "      <td>1411.58</td>\n",
       "      <td>1390.84</td>\n",
       "      <td>1404.32</td>\n",
       "      <td>1528000</td>\n",
       "      <td>0</td>\n",
       "      <td>0</td>\n",
       "    </tr>\n",
       "  </tbody>\n",
       "</table>\n",
       "</div>"
      ],
      "text/plain": [
       "               Open     High      Low    Close   Volume  Dividends  \\\n",
       "Date                                                                 \n",
       "2020-01-02  1341.55  1368.14  1341.55  1367.37  1406600          0   \n",
       "2020-01-03  1347.86  1372.50  1345.54  1360.66  1186400          0   \n",
       "2020-01-06  1350.00  1396.50  1350.00  1394.21  1732300          0   \n",
       "2020-01-07  1397.94  1402.99  1390.38  1393.34  1502700          0   \n",
       "2020-01-08  1392.08  1411.58  1390.84  1404.32  1528000          0   \n",
       "\n",
       "            Stock Splits  \n",
       "Date                      \n",
       "2020-01-02             0  \n",
       "2020-01-03             0  \n",
       "2020-01-06             0  \n",
       "2020-01-07             0  \n",
       "2020-01-08             0  "
      ]
     },
     "execution_count": 47,
     "metadata": {},
     "output_type": "execute_result"
    }
   ],
   "source": [
    "goog.head()"
   ]
  },
  {
   "cell_type": "code",
   "execution_count": 48,
   "metadata": {},
   "outputs": [
    {
     "data": {
      "text/plain": [
       "(252, 7)"
      ]
     },
     "execution_count": 48,
     "metadata": {},
     "output_type": "execute_result"
    }
   ],
   "source": [
    "goog.shape"
   ]
  },
  {
   "cell_type": "code",
   "execution_count": 49,
   "metadata": {},
   "outputs": [
    {
     "data": {
      "text/html": [
       "<div>\n",
       "<style scoped>\n",
       "    .dataframe tbody tr th:only-of-type {\n",
       "        vertical-align: middle;\n",
       "    }\n",
       "\n",
       "    .dataframe tbody tr th {\n",
       "        vertical-align: top;\n",
       "    }\n",
       "\n",
       "    .dataframe thead th {\n",
       "        text-align: right;\n",
       "    }\n",
       "</style>\n",
       "<table border=\"1\" class=\"dataframe\">\n",
       "  <thead>\n",
       "    <tr style=\"text-align: right;\">\n",
       "      <th></th>\n",
       "      <th>Open</th>\n",
       "      <th>High</th>\n",
       "      <th>Low</th>\n",
       "      <th>Close</th>\n",
       "      <th>Volume</th>\n",
       "      <th>Dividends</th>\n",
       "      <th>Stock Splits</th>\n",
       "    </tr>\n",
       "  </thead>\n",
       "  <tbody>\n",
       "    <tr>\n",
       "      <th>count</th>\n",
       "      <td>252.000000</td>\n",
       "      <td>252.000000</td>\n",
       "      <td>252.000000</td>\n",
       "      <td>252.000000</td>\n",
       "      <td>2.520000e+02</td>\n",
       "      <td>252.0</td>\n",
       "      <td>252.0</td>\n",
       "    </tr>\n",
       "    <tr>\n",
       "      <th>mean</th>\n",
       "      <td>1478.551389</td>\n",
       "      <td>1498.148373</td>\n",
       "      <td>1460.984048</td>\n",
       "      <td>1480.330476</td>\n",
       "      <td>1.895180e+06</td>\n",
       "      <td>0.0</td>\n",
       "      <td>0.0</td>\n",
       "    </tr>\n",
       "    <tr>\n",
       "      <th>std</th>\n",
       "      <td>176.404186</td>\n",
       "      <td>174.435405</td>\n",
       "      <td>178.455264</td>\n",
       "      <td>175.486282</td>\n",
       "      <td>7.670688e+05</td>\n",
       "      <td>0.0</td>\n",
       "      <td>0.0</td>\n",
       "    </tr>\n",
       "    <tr>\n",
       "      <th>min</th>\n",
       "      <td>1056.510000</td>\n",
       "      <td>1071.320000</td>\n",
       "      <td>1013.540000</td>\n",
       "      <td>1056.620000</td>\n",
       "      <td>3.468000e+05</td>\n",
       "      <td>0.0</td>\n",
       "      <td>0.0</td>\n",
       "    </tr>\n",
       "    <tr>\n",
       "      <th>25%</th>\n",
       "      <td>1391.760000</td>\n",
       "      <td>1412.465000</td>\n",
       "      <td>1378.537500</td>\n",
       "      <td>1393.992500</td>\n",
       "      <td>1.396450e+06</td>\n",
       "      <td>0.0</td>\n",
       "      <td>0.0</td>\n",
       "    </tr>\n",
       "    <tr>\n",
       "      <th>50%</th>\n",
       "      <td>1471.070000</td>\n",
       "      <td>1488.980000</td>\n",
       "      <td>1459.435000</td>\n",
       "      <td>1475.340000</td>\n",
       "      <td>1.660750e+06</td>\n",
       "      <td>0.0</td>\n",
       "      <td>0.0</td>\n",
       "    </tr>\n",
       "    <tr>\n",
       "      <th>75%</th>\n",
       "      <td>1566.130000</td>\n",
       "      <td>1587.162500</td>\n",
       "      <td>1545.297500</td>\n",
       "      <td>1568.182500</td>\n",
       "      <td>2.155150e+06</td>\n",
       "      <td>0.0</td>\n",
       "      <td>0.0</td>\n",
       "    </tr>\n",
       "    <tr>\n",
       "      <th>max</th>\n",
       "      <td>1824.520000</td>\n",
       "      <td>1847.200000</td>\n",
       "      <td>1822.650000</td>\n",
       "      <td>1827.990000</td>\n",
       "      <td>4.329100e+06</td>\n",
       "      <td>0.0</td>\n",
       "      <td>0.0</td>\n",
       "    </tr>\n",
       "  </tbody>\n",
       "</table>\n",
       "</div>"
      ],
      "text/plain": [
       "              Open         High          Low        Close        Volume  \\\n",
       "count   252.000000   252.000000   252.000000   252.000000  2.520000e+02   \n",
       "mean   1478.551389  1498.148373  1460.984048  1480.330476  1.895180e+06   \n",
       "std     176.404186   174.435405   178.455264   175.486282  7.670688e+05   \n",
       "min    1056.510000  1071.320000  1013.540000  1056.620000  3.468000e+05   \n",
       "25%    1391.760000  1412.465000  1378.537500  1393.992500  1.396450e+06   \n",
       "50%    1471.070000  1488.980000  1459.435000  1475.340000  1.660750e+06   \n",
       "75%    1566.130000  1587.162500  1545.297500  1568.182500  2.155150e+06   \n",
       "max    1824.520000  1847.200000  1822.650000  1827.990000  4.329100e+06   \n",
       "\n",
       "       Dividends  Stock Splits  \n",
       "count      252.0         252.0  \n",
       "mean         0.0           0.0  \n",
       "std          0.0           0.0  \n",
       "min          0.0           0.0  \n",
       "25%          0.0           0.0  \n",
       "50%          0.0           0.0  \n",
       "75%          0.0           0.0  \n",
       "max          0.0           0.0  "
      ]
     },
     "execution_count": 49,
     "metadata": {},
     "output_type": "execute_result"
    }
   ],
   "source": [
    "goog.describe()"
   ]
  },
  {
   "cell_type": "code",
   "execution_count": 50,
   "metadata": {},
   "outputs": [
    {
     "name": "stdout",
     "output_type": "stream",
     "text": [
      "<class 'pandas.core.frame.DataFrame'>\n",
      "DatetimeIndex: 252 entries, 2020-01-02 to 2020-12-30\n",
      "Data columns (total 7 columns):\n",
      " #   Column        Non-Null Count  Dtype  \n",
      "---  ------        --------------  -----  \n",
      " 0   Open          252 non-null    float64\n",
      " 1   High          252 non-null    float64\n",
      " 2   Low           252 non-null    float64\n",
      " 3   Close         252 non-null    float64\n",
      " 4   Volume        252 non-null    int64  \n",
      " 5   Dividends     252 non-null    int64  \n",
      " 6   Stock Splits  252 non-null    int64  \n",
      "dtypes: float64(4), int64(3)\n",
      "memory usage: 15.8 KB\n"
     ]
    }
   ],
   "source": [
    "goog.info()"
   ]
  },
  {
   "cell_type": "code",
   "execution_count": 51,
   "metadata": {},
   "outputs": [
    {
     "data": {
      "text/plain": [
       "Open            float64\n",
       "High            float64\n",
       "Low             float64\n",
       "Close           float64\n",
       "Volume            int64\n",
       "Dividends         int64\n",
       "Stock Splits      int64\n",
       "dtype: object"
      ]
     },
     "execution_count": 51,
     "metadata": {},
     "output_type": "execute_result"
    }
   ],
   "source": [
    "goog.dtypes"
   ]
  },
  {
   "cell_type": "code",
   "execution_count": 52,
   "metadata": {
    "scrolled": true
   },
   "outputs": [
    {
     "data": {
      "text/plain": [
       "Open            0\n",
       "High            0\n",
       "Low             0\n",
       "Close           0\n",
       "Volume          0\n",
       "Dividends       0\n",
       "Stock Splits    0\n",
       "dtype: int64"
      ]
     },
     "execution_count": 52,
     "metadata": {},
     "output_type": "execute_result"
    }
   ],
   "source": [
    "goog.isna().sum()"
   ]
  },
  {
   "cell_type": "markdown",
   "metadata": {},
   "source": [
    "## Create Simple Moving Average Column"
   ]
  },
  {
   "cell_type": "markdown",
   "metadata": {},
   "source": [
    "![Moving Average](../Assets/Moving-Average-Formula.jpg)\n",
    "________________________________________________________________________________________________________________________\n",
    "\n",
    "![Exponential Moving Average Formula](../Assets/Exponential-Moving-Average-Formula.jpg)"
   ]
  },
  {
   "cell_type": "code",
   "execution_count": 53,
   "metadata": {},
   "outputs": [],
   "source": [
    "SMA_50 = goog['Close'].rolling(50).mean()\n",
    "goog['SMA50'] = SMA_50"
   ]
  },
  {
   "cell_type": "markdown",
   "metadata": {},
   "source": [
    "## Create Transmition Column"
   ]
  },
  {
   "cell_type": "markdown",
   "metadata": {},
   "source": [
    "### Transmition (Difference) : $ Y_i = X_i - X_{i-1}$"
   ]
  },
  {
   "cell_type": "code",
   "execution_count": 54,
   "metadata": {},
   "outputs": [],
   "source": [
    "Xi   = goog['Close']\n",
    "Xi_1 = goog['Close'].shift(-1)\n",
    "Yi   = Xi - Xi_1\n",
    "goog['Difference'] = Yi"
   ]
  },
  {
   "cell_type": "code",
   "execution_count": 55,
   "metadata": {},
   "outputs": [
    {
     "data": {
      "text/html": [
       "<div>\n",
       "<style scoped>\n",
       "    .dataframe tbody tr th:only-of-type {\n",
       "        vertical-align: middle;\n",
       "    }\n",
       "\n",
       "    .dataframe tbody tr th {\n",
       "        vertical-align: top;\n",
       "    }\n",
       "\n",
       "    .dataframe thead th {\n",
       "        text-align: right;\n",
       "    }\n",
       "</style>\n",
       "<table border=\"1\" class=\"dataframe\">\n",
       "  <thead>\n",
       "    <tr style=\"text-align: right;\">\n",
       "      <th></th>\n",
       "      <th>Open</th>\n",
       "      <th>High</th>\n",
       "      <th>Low</th>\n",
       "      <th>Close</th>\n",
       "      <th>Volume</th>\n",
       "      <th>Dividends</th>\n",
       "      <th>Stock Splits</th>\n",
       "      <th>SMA50</th>\n",
       "      <th>Difference</th>\n",
       "    </tr>\n",
       "    <tr>\n",
       "      <th>Date</th>\n",
       "      <th></th>\n",
       "      <th></th>\n",
       "      <th></th>\n",
       "      <th></th>\n",
       "      <th></th>\n",
       "      <th></th>\n",
       "      <th></th>\n",
       "      <th></th>\n",
       "      <th></th>\n",
       "    </tr>\n",
       "  </thead>\n",
       "  <tbody>\n",
       "    <tr>\n",
       "      <th>2020-01-02</th>\n",
       "      <td>1341.55</td>\n",
       "      <td>1368.14</td>\n",
       "      <td>1341.55</td>\n",
       "      <td>1367.37</td>\n",
       "      <td>1406600</td>\n",
       "      <td>0</td>\n",
       "      <td>0</td>\n",
       "      <td>NaN</td>\n",
       "      <td>6.71</td>\n",
       "    </tr>\n",
       "    <tr>\n",
       "      <th>2020-01-03</th>\n",
       "      <td>1347.86</td>\n",
       "      <td>1372.50</td>\n",
       "      <td>1345.54</td>\n",
       "      <td>1360.66</td>\n",
       "      <td>1186400</td>\n",
       "      <td>0</td>\n",
       "      <td>0</td>\n",
       "      <td>NaN</td>\n",
       "      <td>-33.55</td>\n",
       "    </tr>\n",
       "    <tr>\n",
       "      <th>2020-01-06</th>\n",
       "      <td>1350.00</td>\n",
       "      <td>1396.50</td>\n",
       "      <td>1350.00</td>\n",
       "      <td>1394.21</td>\n",
       "      <td>1732300</td>\n",
       "      <td>0</td>\n",
       "      <td>0</td>\n",
       "      <td>NaN</td>\n",
       "      <td>0.87</td>\n",
       "    </tr>\n",
       "    <tr>\n",
       "      <th>2020-01-07</th>\n",
       "      <td>1397.94</td>\n",
       "      <td>1402.99</td>\n",
       "      <td>1390.38</td>\n",
       "      <td>1393.34</td>\n",
       "      <td>1502700</td>\n",
       "      <td>0</td>\n",
       "      <td>0</td>\n",
       "      <td>NaN</td>\n",
       "      <td>-10.98</td>\n",
       "    </tr>\n",
       "    <tr>\n",
       "      <th>2020-01-08</th>\n",
       "      <td>1392.08</td>\n",
       "      <td>1411.58</td>\n",
       "      <td>1390.84</td>\n",
       "      <td>1404.32</td>\n",
       "      <td>1528000</td>\n",
       "      <td>0</td>\n",
       "      <td>0</td>\n",
       "      <td>NaN</td>\n",
       "      <td>-15.51</td>\n",
       "    </tr>\n",
       "  </tbody>\n",
       "</table>\n",
       "</div>"
      ],
      "text/plain": [
       "               Open     High      Low    Close   Volume  Dividends  \\\n",
       "Date                                                                 \n",
       "2020-01-02  1341.55  1368.14  1341.55  1367.37  1406600          0   \n",
       "2020-01-03  1347.86  1372.50  1345.54  1360.66  1186400          0   \n",
       "2020-01-06  1350.00  1396.50  1350.00  1394.21  1732300          0   \n",
       "2020-01-07  1397.94  1402.99  1390.38  1393.34  1502700          0   \n",
       "2020-01-08  1392.08  1411.58  1390.84  1404.32  1528000          0   \n",
       "\n",
       "            Stock Splits  SMA50  Difference  \n",
       "Date                                         \n",
       "2020-01-02             0    NaN        6.71  \n",
       "2020-01-03             0    NaN      -33.55  \n",
       "2020-01-06             0    NaN        0.87  \n",
       "2020-01-07             0    NaN      -10.98  \n",
       "2020-01-08             0    NaN      -15.51  "
      ]
     },
     "execution_count": 55,
     "metadata": {},
     "output_type": "execute_result"
    }
   ],
   "source": [
    "goog.head()"
   ]
  },
  {
   "cell_type": "markdown",
   "metadata": {},
   "source": [
    "# Data Visualization"
   ]
  },
  {
   "cell_type": "code",
   "execution_count": null,
   "metadata": {},
   "outputs": [],
   "source": []
  },
  {
   "cell_type": "markdown",
   "metadata": {},
   "source": [
    "<p style=\"height:240px;line-height:100px;font-size:64px;background-color:cyan;color:white;padding:20px auto;text-align:center;border:2px outset gold;border-radius:8px;\">\n",
    "    Created by:<br/> <code>Tarek Ghajary</code>\n",
    "</p>"
   ]
  },
  {
   "cell_type": "code",
   "execution_count": null,
   "metadata": {},
   "outputs": [],
   "source": []
  }
 ],
 "metadata": {
  "kernelspec": {
   "display_name": "Python 3",
   "language": "python",
   "name": "python3"
  },
  "language_info": {
   "codemirror_mode": {
    "name": "ipython",
    "version": 3
   },
   "file_extension": ".py",
   "mimetype": "text/x-python",
   "name": "python",
   "nbconvert_exporter": "python",
   "pygments_lexer": "ipython3",
   "version": "3.7.6"
  }
 },
 "nbformat": 4,
 "nbformat_minor": 4
}
